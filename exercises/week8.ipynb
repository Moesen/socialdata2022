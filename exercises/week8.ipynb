{
 "cells": [
  {
   "cell_type": "markdown",
   "metadata": {},
   "source": [
    "## **Exercise 1**"
   ]
  },
  {
   "cell_type": "markdown",
   "metadata": {},
   "source": [
    "#### **The three key elements**\n",
    "- Overview first: First give a good overview of the data\n",
    "- Zoom and filter: Allow for exploration in the data\n",
    "- Detials on demand: Show more if needed\n",
    "\n",
    "#### **How is explanitory different from exploritory**\n",
    "Explanitary is used when the end result is already known, and you want to communicate your findings with the audience. "
   ]
  },
  {
   "cell_type": "markdown",
   "metadata": {},
   "source": [
    "## **Exercise 2**"
   ]
  },
  {
   "cell_type": "code",
   "execution_count": 175,
   "metadata": {},
   "outputs": [
    {
     "data": {
      "text/html": [
       "\n",
       "    <div class=\"bk-root\">\n",
       "        <a href=\"https://bokeh.org\" target=\"_blank\" class=\"bk-logo bk-logo-small bk-logo-notebook\"></a>\n",
       "        <span id=\"35136\">Loading BokehJS ...</span>\n",
       "    </div>"
      ]
     },
     "metadata": {},
     "output_type": "display_data"
    },
    {
     "data": {
      "application/javascript": "\n(function(root) {\n  function now() {\n    return new Date();\n  }\n\n  const force = true;\n\n  if (typeof root._bokeh_onload_callbacks === \"undefined\" || force === true) {\n    root._bokeh_onload_callbacks = [];\n    root._bokeh_is_loading = undefined;\n  }\n\n  const JS_MIME_TYPE = 'application/javascript';\n  const HTML_MIME_TYPE = 'text/html';\n  const EXEC_MIME_TYPE = 'application/vnd.bokehjs_exec.v0+json';\n  const CLASS_NAME = 'output_bokeh rendered_html';\n\n  /**\n   * Render data to the DOM node\n   */\n  function render(props, node) {\n    const script = document.createElement(\"script\");\n    node.appendChild(script);\n  }\n\n  /**\n   * Handle when an output is cleared or removed\n   */\n  function handleClearOutput(event, handle) {\n    const cell = handle.cell;\n\n    const id = cell.output_area._bokeh_element_id;\n    const server_id = cell.output_area._bokeh_server_id;\n    // Clean up Bokeh references\n    if (id != null && id in Bokeh.index) {\n      Bokeh.index[id].model.document.clear();\n      delete Bokeh.index[id];\n    }\n\n    if (server_id !== undefined) {\n      // Clean up Bokeh references\n      const cmd_clean = \"from bokeh.io.state import curstate; print(curstate().uuid_to_server['\" + server_id + \"'].get_sessions()[0].document.roots[0]._id)\";\n      cell.notebook.kernel.execute(cmd_clean, {\n        iopub: {\n          output: function(msg) {\n            const id = msg.content.text.trim();\n            if (id in Bokeh.index) {\n              Bokeh.index[id].model.document.clear();\n              delete Bokeh.index[id];\n            }\n          }\n        }\n      });\n      // Destroy server and session\n      const cmd_destroy = \"import bokeh.io.notebook as ion; ion.destroy_server('\" + server_id + \"')\";\n      cell.notebook.kernel.execute(cmd_destroy);\n    }\n  }\n\n  /**\n   * Handle when a new output is added\n   */\n  function handleAddOutput(event, handle) {\n    const output_area = handle.output_area;\n    const output = handle.output;\n\n    // limit handleAddOutput to display_data with EXEC_MIME_TYPE content only\n    if ((output.output_type != \"display_data\") || (!Object.prototype.hasOwnProperty.call(output.data, EXEC_MIME_TYPE))) {\n      return\n    }\n\n    const toinsert = output_area.element.find(\".\" + CLASS_NAME.split(' ')[0]);\n\n    if (output.metadata[EXEC_MIME_TYPE][\"id\"] !== undefined) {\n      toinsert[toinsert.length - 1].firstChild.textContent = output.data[JS_MIME_TYPE];\n      // store reference to embed id on output_area\n      output_area._bokeh_element_id = output.metadata[EXEC_MIME_TYPE][\"id\"];\n    }\n    if (output.metadata[EXEC_MIME_TYPE][\"server_id\"] !== undefined) {\n      const bk_div = document.createElement(\"div\");\n      bk_div.innerHTML = output.data[HTML_MIME_TYPE];\n      const script_attrs = bk_div.children[0].attributes;\n      for (let i = 0; i < script_attrs.length; i++) {\n        toinsert[toinsert.length - 1].firstChild.setAttribute(script_attrs[i].name, script_attrs[i].value);\n        toinsert[toinsert.length - 1].firstChild.textContent = bk_div.children[0].textContent\n      }\n      // store reference to server id on output_area\n      output_area._bokeh_server_id = output.metadata[EXEC_MIME_TYPE][\"server_id\"];\n    }\n  }\n\n  function register_renderer(events, OutputArea) {\n\n    function append_mime(data, metadata, element) {\n      // create a DOM node to render to\n      const toinsert = this.create_output_subarea(\n        metadata,\n        CLASS_NAME,\n        EXEC_MIME_TYPE\n      );\n      this.keyboard_manager.register_events(toinsert);\n      // Render to node\n      const props = {data: data, metadata: metadata[EXEC_MIME_TYPE]};\n      render(props, toinsert[toinsert.length - 1]);\n      element.append(toinsert);\n      return toinsert\n    }\n\n    /* Handle when an output is cleared or removed */\n    events.on('clear_output.CodeCell', handleClearOutput);\n    events.on('delete.Cell', handleClearOutput);\n\n    /* Handle when a new output is added */\n    events.on('output_added.OutputArea', handleAddOutput);\n\n    /**\n     * Register the mime type and append_mime function with output_area\n     */\n    OutputArea.prototype.register_mime_type(EXEC_MIME_TYPE, append_mime, {\n      /* Is output safe? */\n      safe: true,\n      /* Index of renderer in `output_area.display_order` */\n      index: 0\n    });\n  }\n\n  // register the mime type if in Jupyter Notebook environment and previously unregistered\n  if (root.Jupyter !== undefined) {\n    const events = require('base/js/events');\n    const OutputArea = require('notebook/js/outputarea').OutputArea;\n\n    if (OutputArea.prototype.mime_types().indexOf(EXEC_MIME_TYPE) == -1) {\n      register_renderer(events, OutputArea);\n    }\n  }\n\n  \n  if (typeof (root._bokeh_timeout) === \"undefined\" || force === true) {\n    root._bokeh_timeout = Date.now() + 5000;\n    root._bokeh_failed_load = false;\n  }\n\n  const NB_LOAD_WARNING = {'data': {'text/html':\n     \"<div style='background-color: #fdd'>\\n\"+\n     \"<p>\\n\"+\n     \"BokehJS does not appear to have successfully loaded. If loading BokehJS from CDN, this \\n\"+\n     \"may be due to a slow or bad network connection. Possible fixes:\\n\"+\n     \"</p>\\n\"+\n     \"<ul>\\n\"+\n     \"<li>re-rerun `output_notebook()` to attempt to load from CDN again, or</li>\\n\"+\n     \"<li>use INLINE resources instead, as so:</li>\\n\"+\n     \"</ul>\\n\"+\n     \"<code>\\n\"+\n     \"from bokeh.resources import INLINE\\n\"+\n     \"output_notebook(resources=INLINE)\\n\"+\n     \"</code>\\n\"+\n     \"</div>\"}};\n\n  function display_loaded() {\n    const el = document.getElementById(\"35136\");\n    if (el != null) {\n      el.textContent = \"BokehJS is loading...\";\n    }\n    if (root.Bokeh !== undefined) {\n      if (el != null) {\n        el.textContent = \"BokehJS \" + root.Bokeh.version + \" successfully loaded.\";\n      }\n    } else if (Date.now() < root._bokeh_timeout) {\n      setTimeout(display_loaded, 100)\n    }\n  }\n\n\n  function run_callbacks() {\n    try {\n      root._bokeh_onload_callbacks.forEach(function(callback) {\n        if (callback != null)\n          callback();\n      });\n    } finally {\n      delete root._bokeh_onload_callbacks\n    }\n    console.debug(\"Bokeh: all callbacks have finished\");\n  }\n\n  function load_libs(css_urls, js_urls, callback) {\n    if (css_urls == null) css_urls = [];\n    if (js_urls == null) js_urls = [];\n\n    root._bokeh_onload_callbacks.push(callback);\n    if (root._bokeh_is_loading > 0) {\n      console.debug(\"Bokeh: BokehJS is being loaded, scheduling callback at\", now());\n      return null;\n    }\n    if (js_urls == null || js_urls.length === 0) {\n      run_callbacks();\n      return null;\n    }\n    console.debug(\"Bokeh: BokehJS not loaded, scheduling load and callback at\", now());\n    root._bokeh_is_loading = css_urls.length + js_urls.length;\n\n    function on_load() {\n      root._bokeh_is_loading--;\n      if (root._bokeh_is_loading === 0) {\n        console.debug(\"Bokeh: all BokehJS libraries/stylesheets loaded\");\n        run_callbacks()\n      }\n    }\n\n    function on_error(url) {\n      console.error(\"failed to load \" + url);\n    }\n\n    for (let i = 0; i < css_urls.length; i++) {\n      const url = css_urls[i];\n      const element = document.createElement(\"link\");\n      element.onload = on_load;\n      element.onerror = on_error.bind(null, url);\n      element.rel = \"stylesheet\";\n      element.type = \"text/css\";\n      element.href = url;\n      console.debug(\"Bokeh: injecting link tag for BokehJS stylesheet: \", url);\n      document.body.appendChild(element);\n    }\n\n    for (let i = 0; i < js_urls.length; i++) {\n      const url = js_urls[i];\n      const element = document.createElement('script');\n      element.onload = on_load;\n      element.onerror = on_error.bind(null, url);\n      element.async = false;\n      element.src = url;\n      console.debug(\"Bokeh: injecting script tag for BokehJS library: \", url);\n      document.head.appendChild(element);\n    }\n  };\n\n  function inject_raw_css(css) {\n    const element = document.createElement(\"style\");\n    element.appendChild(document.createTextNode(css));\n    document.body.appendChild(element);\n  }\n\n  \n  const js_urls = [\"https://cdn.bokeh.org/bokeh/release/bokeh-2.4.2.min.js\", \"https://cdn.bokeh.org/bokeh/release/bokeh-gl-2.4.2.min.js\", \"https://cdn.bokeh.org/bokeh/release/bokeh-widgets-2.4.2.min.js\", \"https://cdn.bokeh.org/bokeh/release/bokeh-tables-2.4.2.min.js\", \"https://cdn.bokeh.org/bokeh/release/bokeh-mathjax-2.4.2.min.js\"];\n  const css_urls = [];\n  \n\n  const inline_js = [\n    function(Bokeh) {\n      Bokeh.set_log_level(\"info\");\n    },\n    function(Bokeh) {\n    \n    \n    }\n  ];\n\n  function run_inline_js() {\n    \n    if (root.Bokeh !== undefined || force === true) {\n      \n    for (let i = 0; i < inline_js.length; i++) {\n      inline_js[i].call(root, root.Bokeh);\n    }\n    if (force === true) {\n        display_loaded();\n      }} else if (Date.now() < root._bokeh_timeout) {\n      setTimeout(run_inline_js, 100);\n    } else if (!root._bokeh_failed_load) {\n      console.log(\"Bokeh: BokehJS failed to load within specified timeout.\");\n      root._bokeh_failed_load = true;\n    } else if (force !== true) {\n      const cell = $(document.getElementById(\"35136\")).parents('.cell').data().cell;\n      cell.output_area.append_execute_result(NB_LOAD_WARNING)\n    }\n\n  }\n\n  if (root._bokeh_is_loading === 0) {\n    console.debug(\"Bokeh: BokehJS loaded, going straight to plotting\");\n    run_inline_js();\n  } else {\n    load_libs(css_urls, js_urls, function() {\n      console.debug(\"Bokeh: BokehJS plotting callback run at\", now());\n      run_inline_js();\n    });\n  }\n}(window));",
      "application/vnd.bokehjs_load.v0+json": ""
     },
     "metadata": {},
     "output_type": "display_data"
    }
   ],
   "source": [
    "\n",
    "import pandas as pd\n",
    "\n",
    "from bokeh.plotting import figure\n",
    "from bokeh.io import show, output_notebook, reset_output\n",
    "from bokeh.models import ColumnDataSource, Legend\n",
    "from bokeh.models.widgets import Tabs, Panel\n",
    "from bokeh.io import curdoc\n",
    "from bokeh.layouts import layout\n",
    "import numpy as np\n",
    "\n",
    "\n",
    "output_notebook()"
   ]
  },
  {
   "cell_type": "markdown",
   "metadata": {},
   "source": [
    "### **Visualization 1**"
   ]
  },
  {
   "cell_type": "code",
   "execution_count": 176,
   "metadata": {},
   "outputs": [],
   "source": [
    "variables_of_interest = [\n",
    "    # Variables\n",
    "    \"age\",\n",
    "    \"sex\",\n",
    "    \"race\",\n",
    "    \"juv_fel_count\",\n",
    "    \"juv_misd_count\",\n",
    "    \"juv_other_count\",\n",
    "    \"priors_count\",\n",
    "\n",
    "    # Feature\n",
    "    \"two_year_recid\"  \n",
    "]"
   ]
  },
  {
   "cell_type": "code",
   "execution_count": 177,
   "metadata": {},
   "outputs": [
    {
     "data": {
      "text/plain": [
       "(6172, 8)"
      ]
     },
     "execution_count": 177,
     "metadata": {},
     "output_type": "execute_result"
    }
   ],
   "source": [
    "df = pd.read_csv(\"../files/recidivism_dataset_sub.csv\")\n",
    "\n",
    "df = df[(df.is_recid > -1) & \n",
    "        (df.c_charge_degree != \"0\") & \n",
    "        (-30 <= df.days_b_screening_arrest) & \n",
    "        (df.days_b_screening_arrest <= 30)]\\\n",
    "        .reset_index()\\\n",
    "        .drop(\"index\", axis=1)\n",
    "df = df[variables_of_interest]\n",
    "df.shape"
   ]
  },
  {
   "cell_type": "code",
   "execution_count": 178,
   "metadata": {},
   "outputs": [
    {
     "data": {
      "text/html": [
       "<div>\n",
       "<style scoped>\n",
       "    .dataframe tbody tr th:only-of-type {\n",
       "        vertical-align: middle;\n",
       "    }\n",
       "\n",
       "    .dataframe tbody tr th {\n",
       "        vertical-align: top;\n",
       "    }\n",
       "\n",
       "    .dataframe thead th {\n",
       "        text-align: right;\n",
       "    }\n",
       "</style>\n",
       "<table border=\"1\" class=\"dataframe\">\n",
       "  <thead>\n",
       "    <tr style=\"text-align: right;\">\n",
       "      <th></th>\n",
       "      <th>age</th>\n",
       "      <th>sex</th>\n",
       "      <th>race</th>\n",
       "      <th>juv_fel_count</th>\n",
       "      <th>juv_misd_count</th>\n",
       "      <th>juv_other_count</th>\n",
       "      <th>priors_count</th>\n",
       "      <th>two_year_recid</th>\n",
       "      <th>age_group</th>\n",
       "    </tr>\n",
       "  </thead>\n",
       "  <tbody>\n",
       "    <tr>\n",
       "      <th>2611</th>\n",
       "      <td>20</td>\n",
       "      <td>Male</td>\n",
       "      <td>African-American</td>\n",
       "      <td>0</td>\n",
       "      <td>0</td>\n",
       "      <td>0</td>\n",
       "      <td>0</td>\n",
       "      <td>1</td>\n",
       "      <td>(0,20]</td>\n",
       "    </tr>\n",
       "  </tbody>\n",
       "</table>\n",
       "</div>"
      ],
      "text/plain": [
       "      age   sex              race  ...  priors_count  two_year_recid  age_group\n",
       "2611   20  Male  African-American  ...             0               1     (0,20]\n",
       "\n",
       "[1 rows x 9 columns]"
      ]
     },
     "execution_count": 178,
     "metadata": {},
     "output_type": "execute_result"
    }
   ],
   "source": [
    "# Creating age groups\n",
    "bins = [0, 20, 40, 60, 80, 100]\n",
    "labels = [f\"({x},{y}]\" for x,y in zip(bins[:-1], bins[1:])]\n",
    "df[\"age_group\"] = pd.cut(df.age, bins=bins, labels=labels, right=True)\n",
    "df[df.age==20].sample()"
   ]
  },
  {
   "cell_type": "code",
   "execution_count": 179,
   "metadata": {},
   "outputs": [],
   "source": [
    "df_age = df.groupby(\"age_group\")\\\n",
    "      .agg({\"two_year_recid\":[\"sum\", \"count\"]}).reset_index()\n",
    "df_age.columns = df_age.columns.droplevel(0)\n",
    "df_age = df_age.rename_axis(None, axis=1)\n",
    "df_age[\"frac_recid\"] = df_age[\"sum\"]/df_age[\"count\"]\n",
    "df_age[\"frac_tot\"] = df_age[\"sum\"]/df_age[\"sum\"].sum()\n",
    "df_age.rename(columns={\"\":\"age_group\", \"sum\": \"Recomitted\", \"count\": \"Total\"}, inplace=True)"
   ]
  },
  {
   "cell_type": "code",
   "execution_count": 180,
   "metadata": {},
   "outputs": [
    {
     "data": {
      "text/html": [
       "\n",
       "\n",
       "\n",
       "\n",
       "\n",
       "\n",
       "  <div class=\"bk-root\" id=\"c42622e8-8e0c-4c9c-8c9e-1a2e928408a6\" data-root-id=\"35138\"></div>\n"
      ]
     },
     "metadata": {},
     "output_type": "display_data"
    },
    {
     "data": {
      "application/javascript": "(function(root) {\n  function embed_document(root) {\n    \n  const docs_json = {\"db0319b8-feb0-4e4c-a361-71873fb1a3df\":{\"defs\":[],\"roots\":{\"references\":[{\"attributes\":{\"below\":[{\"id\":\"35149\"}],\"center\":[{\"id\":\"35151\"},{\"id\":\"35155\"},{\"id\":\"35189\"}],\"height\":500,\"left\":[{\"id\":\"35152\"}],\"renderers\":[{\"id\":\"35177\"},{\"id\":\"35196\"}],\"title\":{\"id\":\"35139\"},\"toolbar\":{\"id\":\"35164\"},\"width\":800,\"x_range\":{\"id\":\"35141\"},\"x_scale\":{\"id\":\"35145\"},\"y_range\":{\"id\":\"35143\"},\"y_scale\":{\"id\":\"35147\"}},\"id\":\"35138\",\"subtype\":\"Figure\",\"type\":\"Plot\"},{\"attributes\":{},\"id\":\"35208\",\"type\":\"Selection\"},{\"attributes\":{},\"id\":\"35207\",\"type\":\"UnionRenderers\"},{\"attributes\":{},\"id\":\"35147\",\"type\":\"LinearScale\"},{\"attributes\":{\"axis_label\":\"Age group\",\"coordinates\":null,\"formatter\":{\"id\":\"35184\"},\"group\":null,\"major_label_policy\":{\"id\":\"35185\"},\"ticker\":{\"id\":\"35150\"}},\"id\":\"35149\",\"type\":\"CategoricalAxis\"},{\"attributes\":{\"label\":{\"value\":\"Recomitted\"},\"renderers\":[{\"id\":\"35196\"}]},\"id\":\"35210\",\"type\":\"LegendItem\"},{\"attributes\":{\"fill_alpha\":{\"value\":0.2},\"fill_color\":{\"value\":\"mediumseagreen\"},\"hatch_alpha\":{\"value\":0.2},\"hatch_color\":{\"value\":\"mediumseagreen\"},\"line_alpha\":{\"value\":0.2},\"line_color\":{\"value\":\"mediumseagreen\"},\"top\":{\"field\":\"Recomitted\"},\"width\":{\"value\":0.5},\"x\":{\"field\":\"age_group\"}},\"id\":\"35195\",\"type\":\"VBar\"},{\"attributes\":{},\"id\":\"35181\",\"type\":\"BasicTickFormatter\"},{\"attributes\":{\"coordinates\":null,\"data_source\":{\"id\":\"35191\"},\"glyph\":{\"id\":\"35193\"},\"group\":null,\"hover_glyph\":null,\"muted_glyph\":{\"id\":\"35195\"},\"nonselection_glyph\":{\"id\":\"35194\"},\"view\":{\"id\":\"35197\"}},\"id\":\"35196\",\"type\":\"GlyphRenderer\"},{\"attributes\":{\"data\":{\"Recomitted\":[141,2111,516,40,1],\"Total\":[189,4305,1500,176,2],\"age_group\":[\"(0,20]\",\"(20,40]\",\"(40,60]\",\"(60,80]\",\"(80,100]\"],\"frac_recid\":{\"__ndarray__\":\"+H3f933f5z/QOrMaD2LfP2q8dJMYBNY/F1100UUXzT8AAAAAAADgPw==\",\"dtype\":\"float64\",\"order\":\"little\",\"shape\":[5]},\"frac_tot\":{\"__ndarray__\":\"2sQQiEOzqT9v03D6ZAzoP1XPRZJTg8c/mMk8zdQpjT/gOso9qlQ3Pw==\",\"dtype\":\"float64\",\"order\":\"little\",\"shape\":[5]},\"index\":[0,1,2,3,4]},\"selected\":{\"id\":\"35208\"},\"selection_policy\":{\"id\":\"35207\"}},\"id\":\"35191\",\"type\":\"ColumnDataSource\"},{\"attributes\":{\"fill_alpha\":{\"value\":0.1},\"fill_color\":{\"value\":\"mediumseagreen\"},\"hatch_alpha\":{\"value\":0.1},\"hatch_color\":{\"value\":\"mediumseagreen\"},\"line_alpha\":{\"value\":0.1},\"line_color\":{\"value\":\"mediumseagreen\"},\"top\":{\"field\":\"Recomitted\"},\"width\":{\"value\":0.5},\"x\":{\"field\":\"age_group\"}},\"id\":\"35194\",\"type\":\"VBar\"},{\"attributes\":{\"source\":{\"id\":\"35191\"}},\"id\":\"35197\",\"type\":\"CDSView\"},{\"attributes\":{\"fill_alpha\":{\"value\":0.1},\"fill_color\":{\"value\":\"darkturquoise\"},\"hatch_alpha\":{\"value\":0.1},\"hatch_color\":{\"value\":\"darkturquoise\"},\"line_alpha\":{\"value\":0.1},\"line_color\":{\"value\":\"darkturquoise\"},\"top\":{\"field\":\"Total\"},\"width\":{\"value\":0.5},\"x\":{\"field\":\"age_group\"}},\"id\":\"35175\",\"type\":\"VBar\"},{\"attributes\":{},\"id\":\"35145\",\"type\":\"CategoricalScale\"},{\"attributes\":{\"fill_color\":{\"value\":\"mediumseagreen\"},\"hatch_color\":{\"value\":\"mediumseagreen\"},\"line_color\":{\"value\":\"mediumseagreen\"},\"top\":{\"field\":\"Recomitted\"},\"width\":{\"value\":0.5},\"x\":{\"field\":\"age_group\"}},\"id\":\"35193\",\"type\":\"VBar\"},{\"attributes\":{},\"id\":\"35157\",\"type\":\"WheelZoomTool\"},{\"attributes\":{\"fill_color\":{\"value\":\"darkturquoise\"},\"hatch_color\":{\"value\":\"darkturquoise\"},\"line_color\":{\"value\":\"darkturquoise\"},\"top\":{\"field\":\"Total\"},\"width\":{\"value\":0.5},\"x\":{\"field\":\"age_group\"}},\"id\":\"35174\",\"type\":\"VBar\"},{\"attributes\":{},\"id\":\"35161\",\"type\":\"HelpTool\"},{\"attributes\":{},\"id\":\"35186\",\"type\":\"UnionRenderers\"},{\"attributes\":{\"overlay\":{\"id\":\"35162\"}},\"id\":\"35158\",\"type\":\"BoxZoomTool\"},{\"attributes\":{},\"id\":\"35182\",\"type\":\"AllLabels\"},{\"attributes\":{},\"id\":\"35185\",\"type\":\"AllLabels\"},{\"attributes\":{\"coordinates\":null,\"group\":null,\"text\":\"Fraction of recommitted crimes\"},\"id\":\"35139\",\"type\":\"Title\"},{\"attributes\":{\"tools\":[{\"id\":\"35156\"},{\"id\":\"35157\"},{\"id\":\"35158\"},{\"id\":\"35159\"},{\"id\":\"35160\"},{\"id\":\"35161\"},{\"id\":\"35163\"}]},\"id\":\"35164\",\"type\":\"Toolbar\"},{\"attributes\":{},\"id\":\"35150\",\"type\":\"CategoricalTicker\"},{\"attributes\":{\"bottom_units\":\"screen\",\"coordinates\":null,\"fill_alpha\":0.5,\"fill_color\":\"lightgrey\",\"group\":null,\"left_units\":\"screen\",\"level\":\"overlay\",\"line_alpha\":1.0,\"line_color\":\"black\",\"line_dash\":[4,4],\"line_width\":2,\"right_units\":\"screen\",\"syncable\":false,\"top_units\":\"screen\"},\"id\":\"35162\",\"type\":\"BoxAnnotation\"},{\"attributes\":{\"coordinates\":null,\"data_source\":{\"id\":\"35172\"},\"glyph\":{\"id\":\"35174\"},\"group\":null,\"hover_glyph\":null,\"muted_glyph\":{\"id\":\"35176\"},\"nonselection_glyph\":{\"id\":\"35175\"},\"view\":{\"id\":\"35178\"}},\"id\":\"35177\",\"type\":\"GlyphRenderer\"},{\"attributes\":{},\"id\":\"35187\",\"type\":\"Selection\"},{\"attributes\":{\"fill_alpha\":{\"value\":0.2},\"fill_color\":{\"value\":\"darkturquoise\"},\"hatch_alpha\":{\"value\":0.2},\"hatch_color\":{\"value\":\"darkturquoise\"},\"line_alpha\":{\"value\":0.2},\"line_color\":{\"value\":\"darkturquoise\"},\"top\":{\"field\":\"Total\"},\"width\":{\"value\":0.5},\"x\":{\"field\":\"age_group\"}},\"id\":\"35176\",\"type\":\"VBar\"},{\"attributes\":{},\"id\":\"35156\",\"type\":\"PanTool\"},{\"attributes\":{\"factors\":[\"(0,20]\",\"(20,40]\",\"(40,60]\",\"(60,80]\",\"(80,100]\"]},\"id\":\"35141\",\"type\":\"FactorRange\"},{\"attributes\":{\"data\":{\"Recomitted\":[141,2111,516,40,1],\"Total\":[189,4305,1500,176,2],\"age_group\":[\"(0,20]\",\"(20,40]\",\"(40,60]\",\"(60,80]\",\"(80,100]\"],\"frac_recid\":{\"__ndarray__\":\"+H3f933f5z/QOrMaD2LfP2q8dJMYBNY/F1100UUXzT8AAAAAAADgPw==\",\"dtype\":\"float64\",\"order\":\"little\",\"shape\":[5]},\"frac_tot\":{\"__ndarray__\":\"2sQQiEOzqT9v03D6ZAzoP1XPRZJTg8c/mMk8zdQpjT/gOso9qlQ3Pw==\",\"dtype\":\"float64\",\"order\":\"little\",\"shape\":[5]},\"index\":[0,1,2,3,4]},\"selected\":{\"id\":\"35187\"},\"selection_policy\":{\"id\":\"35186\"}},\"id\":\"35172\",\"type\":\"ColumnDataSource\"},{\"attributes\":{},\"id\":\"35160\",\"type\":\"ResetTool\"},{\"attributes\":{},\"id\":\"35143\",\"type\":\"DataRange1d\"},{\"attributes\":{\"callback\":null,\"tooltips\":[[\"Fraction recommitted\",\"@frac_recid{0.00}\"],[\"Fraction Total\",\"@frac_tot{0.00}\"]]},\"id\":\"35163\",\"type\":\"HoverTool\"},{\"attributes\":{\"axis_label\":\"Fraction\",\"coordinates\":null,\"formatter\":{\"id\":\"35181\"},\"group\":null,\"major_label_policy\":{\"id\":\"35182\"},\"ticker\":{\"id\":\"35153\"}},\"id\":\"35152\",\"type\":\"LinearAxis\"},{\"attributes\":{\"axis\":{\"id\":\"35149\"},\"coordinates\":null,\"group\":null,\"ticker\":null},\"id\":\"35151\",\"type\":\"Grid\"},{\"attributes\":{\"click_policy\":\"mute\",\"coordinates\":null,\"group\":null,\"items\":[{\"id\":\"35190\"},{\"id\":\"35210\"}]},\"id\":\"35189\",\"type\":\"Legend\"},{\"attributes\":{},\"id\":\"35159\",\"type\":\"SaveTool\"},{\"attributes\":{},\"id\":\"35153\",\"type\":\"BasicTicker\"},{\"attributes\":{\"source\":{\"id\":\"35172\"}},\"id\":\"35178\",\"type\":\"CDSView\"},{\"attributes\":{\"axis\":{\"id\":\"35152\"},\"coordinates\":null,\"dimension\":1,\"group\":null,\"ticker\":null},\"id\":\"35155\",\"type\":\"Grid\"},{\"attributes\":{},\"id\":\"35184\",\"type\":\"CategoricalTickFormatter\"},{\"attributes\":{\"label\":{\"value\":\"Total\"},\"renderers\":[{\"id\":\"35177\"}]},\"id\":\"35190\",\"type\":\"LegendItem\"}],\"root_ids\":[\"35138\"]},\"title\":\"Bokeh Application\",\"version\":\"2.4.2\"}};\n  const render_items = [{\"docid\":\"db0319b8-feb0-4e4c-a361-71873fb1a3df\",\"root_ids\":[\"35138\"],\"roots\":{\"35138\":\"c42622e8-8e0c-4c9c-8c9e-1a2e928408a6\"}}];\n  root.Bokeh.embed.embed_items_notebook(docs_json, render_items);\n\n  }\n  if (root.Bokeh !== undefined) {\n    embed_document(root);\n  } else {\n    let attempts = 0;\n    const timer = setInterval(function(root) {\n      if (root.Bokeh !== undefined) {\n        clearInterval(timer);\n        embed_document(root);\n      } else {\n        attempts++;\n        if (attempts > 100) {\n          clearInterval(timer);\n          console.log(\"Bokeh: ERROR: Unable to run BokehJS code because BokehJS library is missing\");\n        }\n      }\n    }, 10, root)\n  }\n})(window);",
      "application/vnd.bokehjs_exec.v0+json": ""
     },
     "metadata": {
      "application/vnd.bokehjs_exec.v0+json": {
       "id": "35138"
      }
     },
     "output_type": "display_data"
    }
   ],
   "source": [
    "src = ColumnDataSource(df_age)\n",
    "\n",
    "\n",
    "\n",
    "\n",
    "\n",
    "kwargs = dict(\n",
    "    plot_width = 800,\n",
    "    plot_height = 500,\n",
    "    title = \"Fraction of recommitted crimes\",\n",
    "    x_axis_label = \"Age group\",\n",
    "    y_axis_label = \"Fraction\",\n",
    "    x_range=df_age[\"age_group\"].tolist(),\n",
    "    tooltips = [\n",
    "        (\"Fraction recommitted\", \"@frac_recid{0.00}\"),\n",
    "        (\"Fraction Total\", \"@frac_tot{0.00}\")\n",
    "    ]\n",
    ")\n",
    "\n",
    "p_age = figure(**kwargs)\n",
    "bar_cols = [\"Total\", \"Recomitted\"]\n",
    "bar = {}\n",
    "cols = [\"darkturquoise\", \"mediumseagreen\"]\n",
    "for idx, i in enumerate(bar_cols):\n",
    "    bar[i] = p_age.vbar(x=\"age_group\", top=i, source=df_age, width=.5, legend_label=i, muted=False, color=cols[idx])\n",
    "\n",
    "\n",
    "items = [(label, [bar[label]]) for label in bar_cols]\n",
    "p_age.legend.visible = True\n",
    "legend = Legend(items=items, location=\"bottom\")\n",
    "p_age.legend.click_policy = \"mute\"\n",
    "\n",
    "\n",
    "\n",
    "show(p_age)"
   ]
  },
  {
   "cell_type": "code",
   "execution_count": 181,
   "metadata": {},
   "outputs": [
    {
     "data": {
      "text/html": [
       "<div>\n",
       "<style scoped>\n",
       "    .dataframe tbody tr th:only-of-type {\n",
       "        vertical-align: middle;\n",
       "    }\n",
       "\n",
       "    .dataframe tbody tr th {\n",
       "        vertical-align: top;\n",
       "    }\n",
       "\n",
       "    .dataframe thead th {\n",
       "        text-align: right;\n",
       "    }\n",
       "</style>\n",
       "<table border=\"1\" class=\"dataframe\">\n",
       "  <thead>\n",
       "    <tr style=\"text-align: right;\">\n",
       "      <th></th>\n",
       "      <th>sex</th>\n",
       "      <th>Recomitted</th>\n",
       "      <th>Total</th>\n",
       "      <th>frac_recid</th>\n",
       "      <th>frac_tot</th>\n",
       "    </tr>\n",
       "  </thead>\n",
       "  <tbody>\n",
       "    <tr>\n",
       "      <th>0</th>\n",
       "      <td>Female</td>\n",
       "      <td>413</td>\n",
       "      <td>1175</td>\n",
       "      <td>0.351489</td>\n",
       "      <td>0.147027</td>\n",
       "    </tr>\n",
       "    <tr>\n",
       "      <th>1</th>\n",
       "      <td>Male</td>\n",
       "      <td>2396</td>\n",
       "      <td>4997</td>\n",
       "      <td>0.479488</td>\n",
       "      <td>0.852973</td>\n",
       "    </tr>\n",
       "  </tbody>\n",
       "</table>\n",
       "</div>"
      ],
      "text/plain": [
       "      sex  Recomitted  Total  frac_recid  frac_tot\n",
       "0  Female         413   1175    0.351489  0.147027\n",
       "1    Male        2396   4997    0.479488  0.852973"
      ]
     },
     "execution_count": 181,
     "metadata": {},
     "output_type": "execute_result"
    }
   ],
   "source": [
    "df_sex = df.groupby(\"sex\")\\\n",
    "      .agg({\"two_year_recid\":[\"sum\", \"count\"]}).reset_index()\n",
    "df_sex.columns = df_sex.columns.droplevel(0)\n",
    "df_sex = df_sex.rename_axis(None, axis=1)\n",
    "df_sex[\"frac_recid\"] = df_sex[\"sum\"]/df_sex[\"count\"]\n",
    "df_sex[\"frac_tot\"] = df_sex[\"sum\"]/df_sex[\"sum\"].sum()\n",
    "df_sex.rename(columns={\"\":\"sex\", \"sum\": \"Recomitted\", \"count\": \"Total\"}, inplace=True)\n",
    "df_sex"
   ]
  },
  {
   "cell_type": "code",
   "execution_count": 182,
   "metadata": {},
   "outputs": [
    {
     "data": {
      "text/html": [
       "<div>\n",
       "<style scoped>\n",
       "    .dataframe tbody tr th:only-of-type {\n",
       "        vertical-align: middle;\n",
       "    }\n",
       "\n",
       "    .dataframe tbody tr th {\n",
       "        vertical-align: top;\n",
       "    }\n",
       "\n",
       "    .dataframe thead th {\n",
       "        text-align: right;\n",
       "    }\n",
       "</style>\n",
       "<table border=\"1\" class=\"dataframe\">\n",
       "  <thead>\n",
       "    <tr style=\"text-align: right;\">\n",
       "      <th></th>\n",
       "      <th>race</th>\n",
       "      <th>Recomitted</th>\n",
       "      <th>Total</th>\n",
       "      <th>frac_recid</th>\n",
       "      <th>frac_tot</th>\n",
       "    </tr>\n",
       "  </thead>\n",
       "  <tbody>\n",
       "    <tr>\n",
       "      <th>0</th>\n",
       "      <td>African-American</td>\n",
       "      <td>1661</td>\n",
       "      <td>3175</td>\n",
       "      <td>0.523150</td>\n",
       "      <td>0.591314</td>\n",
       "    </tr>\n",
       "    <tr>\n",
       "      <th>1</th>\n",
       "      <td>Asian</td>\n",
       "      <td>8</td>\n",
       "      <td>31</td>\n",
       "      <td>0.258065</td>\n",
       "      <td>0.002848</td>\n",
       "    </tr>\n",
       "    <tr>\n",
       "      <th>2</th>\n",
       "      <td>Caucasian</td>\n",
       "      <td>822</td>\n",
       "      <td>2103</td>\n",
       "      <td>0.390870</td>\n",
       "      <td>0.292631</td>\n",
       "    </tr>\n",
       "    <tr>\n",
       "      <th>3</th>\n",
       "      <td>Hispanic</td>\n",
       "      <td>189</td>\n",
       "      <td>509</td>\n",
       "      <td>0.371316</td>\n",
       "      <td>0.067284</td>\n",
       "    </tr>\n",
       "    <tr>\n",
       "      <th>4</th>\n",
       "      <td>Native American</td>\n",
       "      <td>5</td>\n",
       "      <td>11</td>\n",
       "      <td>0.454545</td>\n",
       "      <td>0.001780</td>\n",
       "    </tr>\n",
       "    <tr>\n",
       "      <th>5</th>\n",
       "      <td>Other</td>\n",
       "      <td>124</td>\n",
       "      <td>343</td>\n",
       "      <td>0.361516</td>\n",
       "      <td>0.044144</td>\n",
       "    </tr>\n",
       "  </tbody>\n",
       "</table>\n",
       "</div>"
      ],
      "text/plain": [
       "               race  Recomitted  Total  frac_recid  frac_tot\n",
       "0  African-American        1661   3175    0.523150  0.591314\n",
       "1             Asian           8     31    0.258065  0.002848\n",
       "2         Caucasian         822   2103    0.390870  0.292631\n",
       "3          Hispanic         189    509    0.371316  0.067284\n",
       "4   Native American           5     11    0.454545  0.001780\n",
       "5             Other         124    343    0.361516  0.044144"
      ]
     },
     "execution_count": 182,
     "metadata": {},
     "output_type": "execute_result"
    }
   ],
   "source": [
    "df_race = df.groupby(\"race\")\\\n",
    "      .agg({\"two_year_recid\":[\"sum\", \"count\"]}).reset_index()\n",
    "df_race.columns = df_race.columns.droplevel(0)\n",
    "df_race = df_race.rename_axis(None, axis=1)\n",
    "df_race[\"frac_recid\"] = df_race[\"sum\"]/df_race[\"count\"]\n",
    "df_race[\"frac_tot\"] = df_race[\"sum\"]/df_race[\"sum\"].sum()\n",
    "df_race.rename(columns={\"\":\"race\", \"sum\": \"Recomitted\", \"count\": \"Total\"}, inplace=True)\n",
    "df_race"
   ]
  },
  {
   "cell_type": "code",
   "execution_count": 183,
   "metadata": {},
   "outputs": [
    {
     "data": {
      "text/html": [
       "\n",
       "\n",
       "\n",
       "\n",
       "\n",
       "\n",
       "  <div class=\"bk-root\" id=\"8eddb74e-d71e-422d-9113-4456da79f687\" data-root-id=\"36390\"></div>\n"
      ]
     },
     "metadata": {},
     "output_type": "display_data"
    },
    {
     "data": {
      "application/javascript": "(function(root) {\n  function embed_document(root) {\n    \n  const docs_json = {\"836d78ee-5382-440d-808c-5cce347dc21a\":{\"defs\":[],\"roots\":{\"references\":[{\"attributes\":{\"tabs\":[{\"id\":\"36387\"},{\"id\":\"36388\"},{\"id\":\"36389\"}]},\"id\":\"36390\",\"type\":\"Tabs\"},{\"attributes\":{},\"id\":\"36349\",\"type\":\"Selection\"},{\"attributes\":{\"children\":[{\"id\":\"36385\"}]},\"id\":\"36386\",\"type\":\"Column\"},{\"attributes\":{},\"id\":\"36348\",\"type\":\"UnionRenderers\"},{\"attributes\":{},\"id\":\"36283\",\"type\":\"BasicTickFormatter\"},{\"attributes\":{},\"id\":\"36284\",\"type\":\"AllLabels\"},{\"attributes\":{\"child\":{\"id\":\"36384\"},\"title\":\"Sex\"},\"id\":\"36388\",\"type\":\"Panel\"},{\"attributes\":{},\"id\":\"36286\",\"type\":\"CategoricalTickFormatter\"},{\"attributes\":{\"children\":[{\"id\":\"36187\"}]},\"id\":\"36383\",\"type\":\"Row\"},{\"attributes\":{},\"id\":\"36287\",\"type\":\"AllLabels\"},{\"attributes\":{\"child\":{\"id\":\"36382\"},\"title\":\"Age\"},\"id\":\"36387\",\"type\":\"Panel\"},{\"attributes\":{\"data\":{\"Recomitted\":[141,2111,516,40,1],\"Total\":[189,4305,1500,176,2],\"age_group\":[\"(0,20]\",\"(20,40]\",\"(40,60]\",\"(60,80]\",\"(80,100]\"],\"frac_recid\":{\"__ndarray__\":\"+H3f933f5z/QOrMaD2LfP2q8dJMYBNY/F1100UUXzT8AAAAAAADgPw==\",\"dtype\":\"float64\",\"order\":\"little\",\"shape\":[5]},\"frac_tot\":{\"__ndarray__\":\"2sQQiEOzqT9v03D6ZAzoP1XPRZJTg8c/mMk8zdQpjT/gOso9qlQ3Pw==\",\"dtype\":\"float64\",\"order\":\"little\",\"shape\":[5]},\"index\":[0,1,2,3,4]},\"selected\":{\"id\":\"36329\"},\"selection_policy\":{\"id\":\"36328\"}},\"id\":\"36312\",\"type\":\"ColumnDataSource\"},{\"attributes\":{},\"id\":\"36288\",\"type\":\"UnionRenderers\"},{\"attributes\":{\"children\":[{\"id\":\"36221\"}]},\"id\":\"36385\",\"type\":\"Row\"},{\"attributes\":{\"fill_alpha\":{\"value\":0.1},\"fill_color\":{\"value\":\"mediumseagreen\"},\"hatch_alpha\":{\"value\":0.1},\"hatch_color\":{\"value\":\"mediumseagreen\"},\"line_alpha\":{\"value\":0.1},\"line_color\":{\"value\":\"mediumseagreen\"},\"top\":{\"field\":\"Recomitted\"},\"width\":{\"value\":0.5},\"x\":{\"field\":\"age_group\"}},\"id\":\"36315\",\"type\":\"VBar\"},{\"attributes\":{\"source\":{\"id\":\"36312\"}},\"id\":\"36318\",\"type\":\"CDSView\"},{\"attributes\":{\"child\":{\"id\":\"36386\"},\"title\":\"Race\"},\"id\":\"36389\",\"type\":\"Panel\"},{\"attributes\":{\"fill_alpha\":{\"value\":0.1},\"fill_color\":{\"value\":\"darkturquoise\"},\"hatch_alpha\":{\"value\":0.1},\"hatch_color\":{\"value\":\"darkturquoise\"},\"line_alpha\":{\"value\":0.1},\"line_color\":{\"value\":\"darkturquoise\"},\"top\":{\"field\":\"Total\"},\"width\":{\"value\":0.5},\"x\":{\"field\":\"age_group\"}},\"id\":\"36258\",\"type\":\"VBar\"},{\"attributes\":{\"fill_alpha\":{\"value\":0.2},\"fill_color\":{\"value\":\"mediumseagreen\"},\"hatch_alpha\":{\"value\":0.2},\"hatch_color\":{\"value\":\"mediumseagreen\"},\"line_alpha\":{\"value\":0.2},\"line_color\":{\"value\":\"mediumseagreen\"},\"top\":{\"field\":\"Recomitted\"},\"width\":{\"value\":0.5},\"x\":{\"field\":\"sex\"}},\"id\":\"36336\",\"type\":\"VBar\"},{\"attributes\":{},\"id\":\"36162\",\"type\":\"LinearScale\"},{\"attributes\":{\"fill_color\":{\"value\":\"mediumseagreen\"},\"hatch_color\":{\"value\":\"mediumseagreen\"},\"line_color\":{\"value\":\"mediumseagreen\"},\"top\":{\"field\":\"Recomitted\"},\"width\":{\"value\":0.5},\"x\":{\"field\":\"age_group\"}},\"id\":\"36314\",\"type\":\"VBar\"},{\"attributes\":{\"fill_color\":{\"value\":\"mediumseagreen\"},\"hatch_color\":{\"value\":\"mediumseagreen\"},\"line_color\":{\"value\":\"mediumseagreen\"},\"top\":{\"field\":\"Recomitted\"},\"width\":{\"value\":0.5},\"x\":{\"field\":\"race\"}},\"id\":\"36354\",\"type\":\"VBar\"},{\"attributes\":{\"label\":{\"value\":\"Recomitted\"},\"renderers\":[{\"id\":\"36357\"}]},\"id\":\"36371\",\"type\":\"LegendItem\"},{\"attributes\":{\"fill_color\":{\"value\":\"mediumseagreen\"},\"hatch_color\":{\"value\":\"mediumseagreen\"},\"line_color\":{\"value\":\"mediumseagreen\"},\"top\":{\"field\":\"Recomitted\"},\"width\":{\"value\":0.5},\"x\":{\"field\":\"sex\"}},\"id\":\"36334\",\"type\":\"VBar\"},{\"attributes\":{\"fill_alpha\":{\"value\":0.1},\"fill_color\":{\"value\":\"mediumseagreen\"},\"hatch_alpha\":{\"value\":0.1},\"hatch_color\":{\"value\":\"mediumseagreen\"},\"line_alpha\":{\"value\":0.1},\"line_color\":{\"value\":\"mediumseagreen\"},\"top\":{\"field\":\"Recomitted\"},\"width\":{\"value\":0.5},\"x\":{\"field\":\"race\"}},\"id\":\"36355\",\"type\":\"VBar\"},{\"attributes\":{\"source\":{\"id\":\"36352\"}},\"id\":\"36358\",\"type\":\"CDSView\"},{\"attributes\":{\"axis\":{\"id\":\"36164\"},\"coordinates\":null,\"group\":null,\"ticker\":null},\"id\":\"36166\",\"type\":\"Grid\"},{\"attributes\":{},\"id\":\"36160\",\"type\":\"CategoricalScale\"},{\"attributes\":{\"factors\":[\"(0,20]\",\"(20,40]\",\"(40,60]\",\"(60,80]\",\"(80,100]\"]},\"id\":\"36156\",\"type\":\"FactorRange\"},{\"attributes\":{},\"id\":\"36175\",\"type\":\"ResetTool\"},{\"attributes\":{\"coordinates\":null,\"group\":null,\"text\":\"Fraction of recommitted crimes\"},\"id\":\"36154\",\"type\":\"Title\"},{\"attributes\":{},\"id\":\"36158\",\"type\":\"DataRange1d\"},{\"attributes\":{\"axis_label\":\"Fraction\",\"coordinates\":null,\"formatter\":{\"id\":\"36264\"},\"group\":null,\"major_label_policy\":{\"id\":\"36265\"},\"ticker\":{\"id\":\"36168\"}},\"id\":\"36167\",\"type\":\"LinearAxis\"},{\"attributes\":{\"label\":{\"value\":\"Recomitted\"},\"renderers\":[{\"id\":\"36317\"}]},\"id\":\"36331\",\"type\":\"LegendItem\"},{\"attributes\":{\"callback\":null,\"tooltips\":[[\"Fraction recommitted\",\"@frac_recid{0.00}\"],[\"Fraction Total\",\"@frac_tot{0.00}\"]]},\"id\":\"36178\",\"type\":\"HoverTool\"},{\"attributes\":{\"fill_alpha\":{\"value\":0.2},\"fill_color\":{\"value\":\"mediumseagreen\"},\"hatch_alpha\":{\"value\":0.2},\"hatch_color\":{\"value\":\"mediumseagreen\"},\"line_alpha\":{\"value\":0.2},\"line_color\":{\"value\":\"mediumseagreen\"},\"top\":{\"field\":\"Recomitted\"},\"width\":{\"value\":0.5},\"x\":{\"field\":\"age_group\"}},\"id\":\"36316\",\"type\":\"VBar\"},{\"attributes\":{},\"id\":\"36369\",\"type\":\"Selection\"},{\"attributes\":{},\"id\":\"36368\",\"type\":\"UnionRenderers\"},{\"attributes\":{\"coordinates\":null,\"data_source\":{\"id\":\"36312\"},\"glyph\":{\"id\":\"36314\"},\"group\":null,\"hover_glyph\":null,\"muted_glyph\":{\"id\":\"36316\"},\"nonselection_glyph\":{\"id\":\"36315\"},\"view\":{\"id\":\"36318\"}},\"id\":\"36317\",\"type\":\"GlyphRenderer\"},{\"attributes\":{},\"id\":\"36176\",\"type\":\"HelpTool\"},{\"attributes\":{\"axis_label\":\"Age Group\",\"coordinates\":null,\"formatter\":{\"id\":\"36267\"},\"group\":null,\"major_label_policy\":{\"id\":\"36268\"},\"ticker\":{\"id\":\"36165\"}},\"id\":\"36164\",\"type\":\"CategoricalAxis\"},{\"attributes\":{\"axis\":{\"id\":\"36167\"},\"coordinates\":null,\"dimension\":1,\"group\":null,\"ticker\":null},\"id\":\"36170\",\"type\":\"Grid\"},{\"attributes\":{\"fill_alpha\":{\"value\":0.2},\"fill_color\":{\"value\":\"mediumseagreen\"},\"hatch_alpha\":{\"value\":0.2},\"hatch_color\":{\"value\":\"mediumseagreen\"},\"line_alpha\":{\"value\":0.2},\"line_color\":{\"value\":\"mediumseagreen\"},\"top\":{\"field\":\"Recomitted\"},\"width\":{\"value\":0.5},\"x\":{\"field\":\"race\"}},\"id\":\"36356\",\"type\":\"VBar\"},{\"attributes\":{\"below\":[{\"id\":\"36164\"}],\"center\":[{\"id\":\"36166\"},{\"id\":\"36170\"},{\"id\":\"36272\"}],\"height\":500,\"left\":[{\"id\":\"36167\"}],\"renderers\":[{\"id\":\"36260\"},{\"id\":\"36317\"}],\"title\":{\"id\":\"36154\"},\"toolbar\":{\"id\":\"36179\"},\"width\":800,\"x_range\":{\"id\":\"36156\"},\"x_scale\":{\"id\":\"36160\"},\"y_range\":{\"id\":\"36158\"},\"y_scale\":{\"id\":\"36162\"}},\"id\":\"36153\",\"subtype\":\"Figure\",\"type\":\"Plot\"},{\"attributes\":{},\"id\":\"36165\",\"type\":\"CategoricalTicker\"},{\"attributes\":{\"data\":{\"Recomitted\":[413,2396],\"Total\":[1175,4997],\"frac_recid\":{\"__ndarray__\":\"bsNZPM1+1j9kk6cl7a/ePw==\",\"dtype\":\"float64\",\"order\":\"little\",\"shape\":[2]},\"frac_tot\":{\"__ndarray__\":\"faDXUsvRwj/hF0orjUvrPw==\",\"dtype\":\"float64\",\"order\":\"little\",\"shape\":[2]},\"index\":[0,1],\"sex\":[\"Female\",\"Male\"]},\"selected\":{\"id\":\"36349\"},\"selection_policy\":{\"id\":\"36348\"}},\"id\":\"36332\",\"type\":\"ColumnDataSource\"},{\"attributes\":{},\"id\":\"36172\",\"type\":\"WheelZoomTool\"},{\"attributes\":{},\"id\":\"36168\",\"type\":\"BasicTicker\"},{\"attributes\":{\"label\":{\"value\":\"Recomitted\"},\"renderers\":[{\"id\":\"36337\"}]},\"id\":\"36351\",\"type\":\"LegendItem\"},{\"attributes\":{\"fill_alpha\":{\"value\":0.1},\"fill_color\":{\"value\":\"mediumseagreen\"},\"hatch_alpha\":{\"value\":0.1},\"hatch_color\":{\"value\":\"mediumseagreen\"},\"line_alpha\":{\"value\":0.1},\"line_color\":{\"value\":\"mediumseagreen\"},\"top\":{\"field\":\"Recomitted\"},\"width\":{\"value\":0.5},\"x\":{\"field\":\"sex\"}},\"id\":\"36335\",\"type\":\"VBar\"},{\"attributes\":{\"coordinates\":null,\"data_source\":{\"id\":\"36352\"},\"glyph\":{\"id\":\"36354\"},\"group\":null,\"hover_glyph\":null,\"muted_glyph\":{\"id\":\"36356\"},\"nonselection_glyph\":{\"id\":\"36355\"},\"view\":{\"id\":\"36358\"}},\"id\":\"36357\",\"type\":\"GlyphRenderer\"},{\"attributes\":{},\"id\":\"36171\",\"type\":\"PanTool\"},{\"attributes\":{\"data\":{\"Recomitted\":[1661,8,822,189,5,124],\"Total\":[3175,31,2103,509,11,343],\"frac_recid\":{\"__ndarray__\":\"dw0/PqS94D+EEEIIIYTQP/ch32EEBNk/dk40eKXD1z8XXXTRRRfdP6R8zyYUI9c/\",\"dtype\":\"float64\",\"order\":\"little\",\"shape\":[6]},\"frac_tot\":{\"__ndarray__\":\"ACRdkgrs4j/gOso9qlRnP0PWmah2utI/d02er4E5sT+YyTzN1CldPwnp2+sEmqY/\",\"dtype\":\"float64\",\"order\":\"little\",\"shape\":[6]},\"index\":[0,1,2,3,4,5],\"race\":[\"African-American\",\"Asian\",\"Caucasian\",\"Hispanic\",\"Native American\",\"Other\"]},\"selected\":{\"id\":\"36369\"},\"selection_policy\":{\"id\":\"36368\"}},\"id\":\"36352\",\"type\":\"ColumnDataSource\"},{\"attributes\":{},\"id\":\"36174\",\"type\":\"SaveTool\"},{\"attributes\":{\"source\":{\"id\":\"36332\"}},\"id\":\"36338\",\"type\":\"CDSView\"},{\"attributes\":{},\"id\":\"36329\",\"type\":\"Selection\"},{\"attributes\":{\"overlay\":{\"id\":\"36177\"}},\"id\":\"36173\",\"type\":\"BoxZoomTool\"},{\"attributes\":{\"fill_alpha\":{\"value\":0.1},\"fill_color\":{\"value\":\"darkturquoise\"},\"hatch_alpha\":{\"value\":0.1},\"hatch_color\":{\"value\":\"darkturquoise\"},\"line_alpha\":{\"value\":0.1},\"line_color\":{\"value\":\"darkturquoise\"},\"top\":{\"field\":\"Total\"},\"width\":{\"value\":0.5},\"x\":{\"field\":\"race\"}},\"id\":\"36296\",\"type\":\"VBar\"},{\"attributes\":{},\"id\":\"36328\",\"type\":\"UnionRenderers\"},{\"attributes\":{\"data\":{\"Recomitted\":[1661,8,822,189,5,124],\"Total\":[3175,31,2103,509,11,343],\"frac_recid\":{\"__ndarray__\":\"dw0/PqS94D+EEEIIIYTQP/ch32EEBNk/dk40eKXD1z8XXXTRRRfdP6R8zyYUI9c/\",\"dtype\":\"float64\",\"order\":\"little\",\"shape\":[6]},\"frac_tot\":{\"__ndarray__\":\"ACRdkgrs4j/gOso9qlRnP0PWmah2utI/d02er4E5sT+YyTzN1CldPwnp2+sEmqY/\",\"dtype\":\"float64\",\"order\":\"little\",\"shape\":[6]},\"index\":[0,1,2,3,4,5],\"race\":[\"African-American\",\"Asian\",\"Caucasian\",\"Hispanic\",\"Native American\",\"Other\"]},\"selected\":{\"id\":\"36308\"},\"selection_policy\":{\"id\":\"36307\"}},\"id\":\"36293\",\"type\":\"ColumnDataSource\"},{\"attributes\":{\"bottom_units\":\"screen\",\"coordinates\":null,\"fill_alpha\":0.5,\"fill_color\":\"lightgrey\",\"group\":null,\"left_units\":\"screen\",\"level\":\"overlay\",\"line_alpha\":1.0,\"line_color\":\"black\",\"line_dash\":[4,4],\"line_width\":2,\"right_units\":\"screen\",\"syncable\":false,\"top_units\":\"screen\"},\"id\":\"36177\",\"type\":\"BoxAnnotation\"},{\"attributes\":{\"coordinates\":null,\"data_source\":{\"id\":\"36332\"},\"glyph\":{\"id\":\"36334\"},\"group\":null,\"hover_glyph\":null,\"muted_glyph\":{\"id\":\"36336\"},\"nonselection_glyph\":{\"id\":\"36335\"},\"view\":{\"id\":\"36338\"}},\"id\":\"36337\",\"type\":\"GlyphRenderer\"},{\"attributes\":{\"children\":[{\"id\":\"36153\"}]},\"id\":\"36381\",\"type\":\"Row\"},{\"attributes\":{\"label\":{\"value\":\"Total\"},\"renderers\":[{\"id\":\"36298\"}]},\"id\":\"36311\",\"type\":\"LegendItem\"},{\"attributes\":{},\"id\":\"36269\",\"type\":\"UnionRenderers\"},{\"attributes\":{},\"id\":\"36270\",\"type\":\"Selection\"},{\"attributes\":{\"overlay\":{\"id\":\"36211\"}},\"id\":\"36207\",\"type\":\"BoxZoomTool\"},{\"attributes\":{},\"id\":\"36210\",\"type\":\"HelpTool\"},{\"attributes\":{\"fill_color\":{\"value\":\"darkturquoise\"},\"hatch_color\":{\"value\":\"darkturquoise\"},\"line_color\":{\"value\":\"darkturquoise\"},\"top\":{\"field\":\"Total\"},\"width\":{\"value\":0.5},\"x\":{\"field\":\"race\"}},\"id\":\"36295\",\"type\":\"VBar\"},{\"attributes\":{},\"id\":\"36302\",\"type\":\"BasicTickFormatter\"},{\"attributes\":{\"fill_color\":{\"value\":\"darkturquoise\"},\"hatch_color\":{\"value\":\"darkturquoise\"},\"line_color\":{\"value\":\"darkturquoise\"},\"top\":{\"field\":\"Total\"},\"width\":{\"value\":0.5},\"x\":{\"field\":\"sex\"}},\"id\":\"36276\",\"type\":\"VBar\"},{\"attributes\":{},\"id\":\"36268\",\"type\":\"AllLabels\"},{\"attributes\":{\"children\":[{\"id\":\"36381\"}]},\"id\":\"36382\",\"type\":\"Column\"},{\"attributes\":{\"coordinates\":null,\"data_source\":{\"id\":\"36293\"},\"glyph\":{\"id\":\"36295\"},\"group\":null,\"hover_glyph\":null,\"muted_glyph\":{\"id\":\"36297\"},\"nonselection_glyph\":{\"id\":\"36296\"},\"view\":{\"id\":\"36299\"}},\"id\":\"36298\",\"type\":\"GlyphRenderer\"},{\"attributes\":{\"data\":{\"Recomitted\":[141,2111,516,40,1],\"Total\":[189,4305,1500,176,2],\"age_group\":[\"(0,20]\",\"(20,40]\",\"(40,60]\",\"(60,80]\",\"(80,100]\"],\"frac_recid\":{\"__ndarray__\":\"+H3f933f5z/QOrMaD2LfP2q8dJMYBNY/F1100UUXzT8AAAAAAADgPw==\",\"dtype\":\"float64\",\"order\":\"little\",\"shape\":[5]},\"frac_tot\":{\"__ndarray__\":\"2sQQiEOzqT9v03D6ZAzoP1XPRZJTg8c/mMk8zdQpjT/gOso9qlQ3Pw==\",\"dtype\":\"float64\",\"order\":\"little\",\"shape\":[5]},\"index\":[0,1,2,3,4]},\"selected\":{\"id\":\"36270\"},\"selection_policy\":{\"id\":\"36269\"}},\"id\":\"36255\",\"type\":\"ColumnDataSource\"},{\"attributes\":{\"source\":{\"id\":\"36293\"}},\"id\":\"36299\",\"type\":\"CDSView\"},{\"attributes\":{\"overlay\":{\"id\":\"36245\"}},\"id\":\"36241\",\"type\":\"BoxZoomTool\"},{\"attributes\":{},\"id\":\"36239\",\"type\":\"PanTool\"},{\"attributes\":{\"below\":[{\"id\":\"36232\"}],\"center\":[{\"id\":\"36234\"},{\"id\":\"36238\"},{\"id\":\"36310\"}],\"height\":500,\"left\":[{\"id\":\"36235\"}],\"renderers\":[{\"id\":\"36298\"},{\"id\":\"36357\"}],\"title\":{\"id\":\"36222\"},\"toolbar\":{\"id\":\"36247\"},\"width\":800,\"x_range\":{\"id\":\"36224\"},\"x_scale\":{\"id\":\"36228\"},\"y_range\":{\"id\":\"36226\"},\"y_scale\":{\"id\":\"36230\"}},\"id\":\"36221\",\"subtype\":\"Figure\",\"type\":\"Plot\"},{\"attributes\":{\"label\":{\"value\":\"Total\"},\"renderers\":[{\"id\":\"36260\"}]},\"id\":\"36273\",\"type\":\"LegendItem\"},{\"attributes\":{\"coordinates\":null,\"data_source\":{\"id\":\"36255\"},\"glyph\":{\"id\":\"36257\"},\"group\":null,\"hover_glyph\":null,\"muted_glyph\":{\"id\":\"36259\"},\"nonselection_glyph\":{\"id\":\"36258\"},\"view\":{\"id\":\"36261\"}},\"id\":\"36260\",\"type\":\"GlyphRenderer\"},{\"attributes\":{},\"id\":\"36264\",\"type\":\"BasicTickFormatter\"},{\"attributes\":{},\"id\":\"36243\",\"type\":\"ResetTool\"},{\"attributes\":{\"tools\":[{\"id\":\"36239\"},{\"id\":\"36240\"},{\"id\":\"36241\"},{\"id\":\"36242\"},{\"id\":\"36243\"},{\"id\":\"36244\"},{\"id\":\"36246\"}]},\"id\":\"36247\",\"type\":\"Toolbar\"},{\"attributes\":{},\"id\":\"36303\",\"type\":\"AllLabels\"},{\"attributes\":{\"bottom_units\":\"screen\",\"coordinates\":null,\"fill_alpha\":0.5,\"fill_color\":\"lightgrey\",\"group\":null,\"left_units\":\"screen\",\"level\":\"overlay\",\"line_alpha\":1.0,\"line_color\":\"black\",\"line_dash\":[4,4],\"line_width\":2,\"right_units\":\"screen\",\"syncable\":false,\"top_units\":\"screen\"},\"id\":\"36245\",\"type\":\"BoxAnnotation\"},{\"attributes\":{\"coordinates\":null,\"group\":null,\"items\":[{\"id\":\"36311\"},{\"id\":\"36371\"}]},\"id\":\"36310\",\"type\":\"Legend\"},{\"attributes\":{},\"id\":\"36242\",\"type\":\"SaveTool\"},{\"attributes\":{\"factors\":[\"African-American\",\"Asian\",\"Caucasian\",\"Hispanic\",\"Native American\",\"Other\"]},\"id\":\"36224\",\"type\":\"FactorRange\"},{\"attributes\":{},\"id\":\"36305\",\"type\":\"CategoricalTickFormatter\"},{\"attributes\":{\"bottom_units\":\"screen\",\"coordinates\":null,\"fill_alpha\":0.5,\"fill_color\":\"lightgrey\",\"group\":null,\"left_units\":\"screen\",\"level\":\"overlay\",\"line_alpha\":1.0,\"line_color\":\"black\",\"line_dash\":[4,4],\"line_width\":2,\"right_units\":\"screen\",\"syncable\":false,\"top_units\":\"screen\"},\"id\":\"36211\",\"type\":\"BoxAnnotation\"},{\"attributes\":{},\"id\":\"36306\",\"type\":\"AllLabels\"},{\"attributes\":{\"fill_alpha\":{\"value\":0.2},\"fill_color\":{\"value\":\"darkturquoise\"},\"hatch_alpha\":{\"value\":0.2},\"hatch_color\":{\"value\":\"darkturquoise\"},\"line_alpha\":{\"value\":0.2},\"line_color\":{\"value\":\"darkturquoise\"},\"top\":{\"field\":\"Total\"},\"width\":{\"value\":0.5},\"x\":{\"field\":\"sex\"}},\"id\":\"36278\",\"type\":\"VBar\"},{\"attributes\":{\"axis_label\":\"Fraction\",\"coordinates\":null,\"formatter\":{\"id\":\"36283\"},\"group\":null,\"major_label_policy\":{\"id\":\"36284\"},\"ticker\":{\"id\":\"36202\"}},\"id\":\"36201\",\"type\":\"LinearAxis\"},{\"attributes\":{},\"id\":\"36206\",\"type\":\"WheelZoomTool\"},{\"attributes\":{\"axis\":{\"id\":\"36201\"},\"coordinates\":null,\"dimension\":1,\"group\":null,\"ticker\":null},\"id\":\"36204\",\"type\":\"Grid\"},{\"attributes\":{},\"id\":\"36202\",\"type\":\"BasicTicker\"},{\"attributes\":{\"fill_alpha\":{\"value\":0.2},\"fill_color\":{\"value\":\"darkturquoise\"},\"hatch_alpha\":{\"value\":0.2},\"hatch_color\":{\"value\":\"darkturquoise\"},\"line_alpha\":{\"value\":0.2},\"line_color\":{\"value\":\"darkturquoise\"},\"top\":{\"field\":\"Total\"},\"width\":{\"value\":0.5},\"x\":{\"field\":\"race\"}},\"id\":\"36297\",\"type\":\"VBar\"},{\"attributes\":{\"tools\":[{\"id\":\"36205\"},{\"id\":\"36206\"},{\"id\":\"36207\"},{\"id\":\"36208\"},{\"id\":\"36209\"},{\"id\":\"36210\"},{\"id\":\"36212\"}]},\"id\":\"36213\",\"type\":\"Toolbar\"},{\"attributes\":{},\"id\":\"36267\",\"type\":\"CategoricalTickFormatter\"},{\"attributes\":{},\"id\":\"36208\",\"type\":\"SaveTool\"},{\"attributes\":{\"axis_label\":\"Sex\",\"coordinates\":null,\"formatter\":{\"id\":\"36286\"},\"group\":null,\"major_label_policy\":{\"id\":\"36287\"},\"ticker\":{\"id\":\"36199\"}},\"id\":\"36198\",\"type\":\"CategoricalAxis\"},{\"attributes\":{\"callback\":null,\"tooltips\":[[\"Fraction recommitted\",\"@frac_recid{0.00}\"],[\"Fraction Total\",\"@frac_tot{0.00}\"]]},\"id\":\"36212\",\"type\":\"HoverTool\"},{\"attributes\":{},\"id\":\"36196\",\"type\":\"LinearScale\"},{\"attributes\":{},\"id\":\"36307\",\"type\":\"UnionRenderers\"},{\"attributes\":{\"callback\":null,\"tooltips\":[[\"Fraction recommitted\",\"@frac_recid{0.00}\"],[\"Fraction Total\",\"@frac_tot{0.00}\"]]},\"id\":\"36246\",\"type\":\"HoverTool\"},{\"attributes\":{\"coordinates\":null,\"group\":null,\"text\":\"Fraction of recommitted crimes\"},\"id\":\"36222\",\"type\":\"Title\"},{\"attributes\":{},\"id\":\"36308\",\"type\":\"Selection\"},{\"attributes\":{\"axis_label\":\"Race\",\"coordinates\":null,\"formatter\":{\"id\":\"36305\"},\"group\":null,\"major_label_policy\":{\"id\":\"36306\"},\"ticker\":{\"id\":\"36233\"}},\"id\":\"36232\",\"type\":\"CategoricalAxis\"},{\"attributes\":{\"children\":[{\"id\":\"36383\"}]},\"id\":\"36384\",\"type\":\"Column\"},{\"attributes\":{\"data\":{\"Recomitted\":[413,2396],\"Total\":[1175,4997],\"frac_recid\":{\"__ndarray__\":\"bsNZPM1+1j9kk6cl7a/ePw==\",\"dtype\":\"float64\",\"order\":\"little\",\"shape\":[2]},\"frac_tot\":{\"__ndarray__\":\"faDXUsvRwj/hF0orjUvrPw==\",\"dtype\":\"float64\",\"order\":\"little\",\"shape\":[2]},\"index\":[0,1],\"sex\":[\"Female\",\"Male\"]},\"selected\":{\"id\":\"36289\"},\"selection_policy\":{\"id\":\"36288\"}},\"id\":\"36274\",\"type\":\"ColumnDataSource\"},{\"attributes\":{\"axis\":{\"id\":\"36198\"},\"coordinates\":null,\"group\":null,\"ticker\":null},\"id\":\"36200\",\"type\":\"Grid\"},{\"attributes\":{},\"id\":\"36244\",\"type\":\"HelpTool\"},{\"attributes\":{\"fill_alpha\":{\"value\":0.2},\"fill_color\":{\"value\":\"darkturquoise\"},\"hatch_alpha\":{\"value\":0.2},\"hatch_color\":{\"value\":\"darkturquoise\"},\"line_alpha\":{\"value\":0.2},\"line_color\":{\"value\":\"darkturquoise\"},\"top\":{\"field\":\"Total\"},\"width\":{\"value\":0.5},\"x\":{\"field\":\"age_group\"}},\"id\":\"36259\",\"type\":\"VBar\"},{\"attributes\":{},\"id\":\"36194\",\"type\":\"CategoricalScale\"},{\"attributes\":{},\"id\":\"36265\",\"type\":\"AllLabels\"},{\"attributes\":{},\"id\":\"36289\",\"type\":\"Selection\"},{\"attributes\":{\"below\":[{\"id\":\"36198\"}],\"center\":[{\"id\":\"36200\"},{\"id\":\"36204\"},{\"id\":\"36291\"}],\"height\":500,\"left\":[{\"id\":\"36201\"}],\"renderers\":[{\"id\":\"36279\"},{\"id\":\"36337\"}],\"title\":{\"id\":\"36188\"},\"toolbar\":{\"id\":\"36213\"},\"width\":800,\"x_range\":{\"id\":\"36190\"},\"x_scale\":{\"id\":\"36194\"},\"y_range\":{\"id\":\"36192\"},\"y_scale\":{\"id\":\"36196\"}},\"id\":\"36187\",\"subtype\":\"Figure\",\"type\":\"Plot\"},{\"attributes\":{\"fill_alpha\":{\"value\":0.1},\"fill_color\":{\"value\":\"darkturquoise\"},\"hatch_alpha\":{\"value\":0.1},\"hatch_color\":{\"value\":\"darkturquoise\"},\"line_alpha\":{\"value\":0.1},\"line_color\":{\"value\":\"darkturquoise\"},\"top\":{\"field\":\"Total\"},\"width\":{\"value\":0.5},\"x\":{\"field\":\"sex\"}},\"id\":\"36277\",\"type\":\"VBar\"},{\"attributes\":{},\"id\":\"36236\",\"type\":\"BasicTicker\"},{\"attributes\":{\"coordinates\":null,\"data_source\":{\"id\":\"36274\"},\"glyph\":{\"id\":\"36276\"},\"group\":null,\"hover_glyph\":null,\"muted_glyph\":{\"id\":\"36278\"},\"nonselection_glyph\":{\"id\":\"36277\"},\"view\":{\"id\":\"36280\"}},\"id\":\"36279\",\"type\":\"GlyphRenderer\"},{\"attributes\":{\"axis\":{\"id\":\"36235\"},\"coordinates\":null,\"dimension\":1,\"group\":null,\"ticker\":null},\"id\":\"36238\",\"type\":\"Grid\"},{\"attributes\":{\"source\":{\"id\":\"36255\"}},\"id\":\"36261\",\"type\":\"CDSView\"},{\"attributes\":{\"axis_label\":\"Fraction\",\"coordinates\":null,\"formatter\":{\"id\":\"36302\"},\"group\":null,\"major_label_policy\":{\"id\":\"36303\"},\"ticker\":{\"id\":\"36236\"}},\"id\":\"36235\",\"type\":\"LinearAxis\"},{\"attributes\":{},\"id\":\"36199\",\"type\":\"CategoricalTicker\"},{\"attributes\":{},\"id\":\"36240\",\"type\":\"WheelZoomTool\"},{\"attributes\":{},\"id\":\"36209\",\"type\":\"ResetTool\"},{\"attributes\":{\"axis\":{\"id\":\"36232\"},\"coordinates\":null,\"group\":null,\"ticker\":null},\"id\":\"36234\",\"type\":\"Grid\"},{\"attributes\":{\"coordinates\":null,\"group\":null,\"text\":\"Fraction of recommitted crimes\"},\"id\":\"36188\",\"type\":\"Title\"},{\"attributes\":{\"click_policy\":\"mute\",\"coordinates\":null,\"group\":null,\"items\":[{\"id\":\"36273\"},{\"id\":\"36331\"}]},\"id\":\"36272\",\"type\":\"Legend\"},{\"attributes\":{},\"id\":\"36192\",\"type\":\"DataRange1d\"},{\"attributes\":{\"fill_color\":{\"value\":\"darkturquoise\"},\"hatch_color\":{\"value\":\"darkturquoise\"},\"line_color\":{\"value\":\"darkturquoise\"},\"top\":{\"field\":\"Total\"},\"width\":{\"value\":0.5},\"x\":{\"field\":\"age_group\"}},\"id\":\"36257\",\"type\":\"VBar\"},{\"attributes\":{},\"id\":\"36205\",\"type\":\"PanTool\"},{\"attributes\":{},\"id\":\"36228\",\"type\":\"CategoricalScale\"},{\"attributes\":{\"coordinates\":null,\"group\":null,\"items\":[{\"id\":\"36292\"},{\"id\":\"36351\"}]},\"id\":\"36291\",\"type\":\"Legend\"},{\"attributes\":{},\"id\":\"36230\",\"type\":\"LinearScale\"},{\"attributes\":{\"label\":{\"value\":\"Total\"},\"renderers\":[{\"id\":\"36279\"}]},\"id\":\"36292\",\"type\":\"LegendItem\"},{\"attributes\":{},\"id\":\"36226\",\"type\":\"DataRange1d\"},{\"attributes\":{\"tools\":[{\"id\":\"36171\"},{\"id\":\"36172\"},{\"id\":\"36173\"},{\"id\":\"36174\"},{\"id\":\"36175\"},{\"id\":\"36176\"},{\"id\":\"36178\"}]},\"id\":\"36179\",\"type\":\"Toolbar\"},{\"attributes\":{\"source\":{\"id\":\"36274\"}},\"id\":\"36280\",\"type\":\"CDSView\"},{\"attributes\":{},\"id\":\"36233\",\"type\":\"CategoricalTicker\"},{\"attributes\":{\"factors\":[\"Female\",\"Male\"]},\"id\":\"36190\",\"type\":\"FactorRange\"}],\"root_ids\":[\"36390\"]},\"title\":\"Bokeh Application\",\"version\":\"2.4.2\"}};\n  const render_items = [{\"docid\":\"836d78ee-5382-440d-808c-5cce347dc21a\",\"root_ids\":[\"36390\"],\"roots\":{\"36390\":\"8eddb74e-d71e-422d-9113-4456da79f687\"}}];\n  root.Bokeh.embed.embed_items_notebook(docs_json, render_items);\n\n  }\n  if (root.Bokeh !== undefined) {\n    embed_document(root);\n  } else {\n    let attempts = 0;\n    const timer = setInterval(function(root) {\n      if (root.Bokeh !== undefined) {\n        clearInterval(timer);\n        embed_document(root);\n      } else {\n        attempts++;\n        if (attempts > 100) {\n          clearInterval(timer);\n          console.log(\"Bokeh: ERROR: Unable to run BokehJS code because BokehJS library is missing\");\n        }\n      }\n    }, 10, root)\n  }\n})(window);",
      "application/vnd.bokehjs_exec.v0+json": ""
     },
     "metadata": {
      "application/vnd.bokehjs_exec.v0+json": {
       "id": "36390"
      }
     },
     "output_type": "display_data"
    }
   ],
   "source": [
    "age_src = ColumnDataSource(df_age)\n",
    "sex_src = ColumnDataSource(df_sex)\n",
    "rac_src = ColumnDataSource(df_race)\n",
    "\n",
    "kwargs = dict(\n",
    "    plot_width = 800,\n",
    "    plot_height = 500,\n",
    "    title = \"Fraction of recommitted crimes\",\n",
    "    y_axis_label = \"Fraction\",\n",
    "    tooltips = [\n",
    "        (\"Fraction recommitted\", \"@frac_recid{0.00}\"),\n",
    "        (\"Fraction Total\", \"@frac_tot{0.00}\")\n",
    "    ]\n",
    ")\n",
    "\n",
    "p_age = figure(x_axis_label=\"Age Group\", x_range=df_age[\"age_group\"].tolist(), **kwargs)\n",
    "p_sex = figure(x_axis_label=\"Sex\", x_range=df_sex[\"sex\"].tolist(), **kwargs)\n",
    "p_rac = figure(x_axis_label=\"Race\", x_range=df_race[\"race\"].tolist(), **kwargs)\n",
    "\n",
    "bar_cols = [\"Total\", \"Recomitted\"]\n",
    "items = [(label, [bar[label]]) for label in bar_cols]\n",
    "\n",
    "bar_rac, bar_age, bar_sex = {}, {}, {}\n",
    "cols = [\"darkturquoise\", \"mediumseagreen\"]\n",
    "for idx, i in enumerate(bar_cols):\n",
    "    bar_age[i] = p_age.vbar(x=\"age_group\", top=i, source=df_age, width=.5, legend_label=i, muted=False, color=cols[idx])\n",
    "    bar_sex[i] = p_sex.vbar(x=\"sex\", top=i, source=df_sex, width=.5, legend_label=i, muted=False, color=cols[idx])\n",
    "    bar_rac[i] = p_rac.vbar(x=\"race\", top=i, source=df_race, width=.5, legend_label=i, muted=False, color=cols[idx])\n",
    "\n",
    "for p in [p_age, p_sex, p_rac]:\n",
    "    p.legend.visible = True\n",
    "    legend = Legend(items=items, location=\"bottom\")\n",
    "    p_age.legend.click_policy = \"mute\"\n",
    "\n",
    "l1 = layout([[p_age]])\n",
    "l2 = layout([[p_sex]])\n",
    "l3 = layout([[p_rac]])\n",
    "\n",
    "tab1 = Panel(child=l1, title=\"Age\")\n",
    "tab2 = Panel(child=l2, title=\"Sex\")\n",
    "tab3 = Panel(child=l3, title=\"Race\")\n",
    "\n",
    "tabs = Tabs(tabs=[tab1, tab2, tab3])\n",
    "\n",
    "curdoc().add_root(tabs)\n",
    "show(tabs)"
   ]
  },
  {
   "cell_type": "markdown",
   "metadata": {},
   "source": [
    "### **Visualization 2**"
   ]
  },
  {
   "cell_type": "code",
   "execution_count": 199,
   "metadata": {},
   "outputs": [],
   "source": [
    "from sklearn.ensemble import RandomForestClassifier\n",
    "from sklearn.metrics import confusion_matrix\n",
    "from sklearn.model_selection import train_test_split"
   ]
  },
  {
   "cell_type": "code",
   "execution_count": 187,
   "metadata": {},
   "outputs": [
    {
     "data": {
      "text/html": [
       "<div>\n",
       "<style scoped>\n",
       "    .dataframe tbody tr th:only-of-type {\n",
       "        vertical-align: middle;\n",
       "    }\n",
       "\n",
       "    .dataframe tbody tr th {\n",
       "        vertical-align: top;\n",
       "    }\n",
       "\n",
       "    .dataframe thead th {\n",
       "        text-align: right;\n",
       "    }\n",
       "</style>\n",
       "<table border=\"1\" class=\"dataframe\">\n",
       "  <thead>\n",
       "    <tr style=\"text-align: right;\">\n",
       "      <th></th>\n",
       "      <th>age</th>\n",
       "      <th>juv_fel_count</th>\n",
       "      <th>juv_misd_count</th>\n",
       "      <th>juv_other_count</th>\n",
       "      <th>priors_count</th>\n",
       "      <th>two_year_recid</th>\n",
       "      <th>sex_Female</th>\n",
       "      <th>sex_Male</th>\n",
       "      <th>race_African-American</th>\n",
       "      <th>race_Asian</th>\n",
       "      <th>race_Caucasian</th>\n",
       "      <th>race_Hispanic</th>\n",
       "      <th>race_Native American</th>\n",
       "      <th>race_Other</th>\n",
       "    </tr>\n",
       "  </thead>\n",
       "  <tbody>\n",
       "    <tr>\n",
       "      <th>914</th>\n",
       "      <td>38</td>\n",
       "      <td>0</td>\n",
       "      <td>0</td>\n",
       "      <td>0</td>\n",
       "      <td>0</td>\n",
       "      <td>0</td>\n",
       "      <td>0</td>\n",
       "      <td>1</td>\n",
       "      <td>0</td>\n",
       "      <td>0</td>\n",
       "      <td>0</td>\n",
       "      <td>1</td>\n",
       "      <td>0</td>\n",
       "      <td>0</td>\n",
       "    </tr>\n",
       "  </tbody>\n",
       "</table>\n",
       "</div>"
      ],
      "text/plain": [
       "     age  juv_fel_count  ...  race_Native American  race_Other\n",
       "914   38              0  ...                     0           0\n",
       "\n",
       "[1 rows x 14 columns]"
      ]
     },
     "execution_count": 187,
     "metadata": {},
     "output_type": "execute_result"
    }
   ],
   "source": [
    "df = pd.read_csv(\"../files/recidivism_dataset_sub.csv\")\n",
    "\n",
    "df = df[(df.is_recid > -1) & \n",
    "        (df.c_charge_degree != \"0\") & \n",
    "        (-30 <= df.days_b_screening_arrest) & \n",
    "        (df.days_b_screening_arrest <= 30)]\\\n",
    "        .reset_index()\\\n",
    "        .drop(\"index\", axis=1)\n",
    "df = df[variables_of_interest]\n",
    "data = pd.concat([df, pd.get_dummies(df[[\"sex\", \"race\"]])], axis=1).drop([\"sex\", \"race\"], axis= 1)\n",
    "data.sample()"
   ]
  },
  {
   "cell_type": "code",
   "execution_count": 197,
   "metadata": {},
   "outputs": [],
   "source": [
    "target_col = \"two_year_recid\"\n",
    "labels = data[target_col].to_numpy()\n",
    "features = data.drop(target_col, axis=1)\n",
    "feature_list = list(features.columns)"
   ]
  },
  {
   "cell_type": "code",
   "execution_count": 203,
   "metadata": {},
   "outputs": [
    {
     "data": {
      "text/plain": [
       "((4320, 13), (1852, 13))"
      ]
     },
     "execution_count": 203,
     "metadata": {},
     "output_type": "execute_result"
    }
   ],
   "source": [
    "train_x, test_x, train_Y, test_Y = train_test_split(features, labels, test_size=.3, random_state=42, stratify=data[target_col])\n"
   ]
  }
 ],
 "metadata": {
  "interpreter": {
   "hash": "baa125a6947e7fe2d780fda829e288a844d09a2a427c95ce6f67ebd33720e2ef"
  },
  "kernelspec": {
   "display_name": "Python 3.9.7 ('sem10')",
   "language": "python",
   "name": "python3"
  },
  "language_info": {
   "codemirror_mode": {
    "name": "ipython",
    "version": 3
   },
   "file_extension": ".py",
   "mimetype": "text/x-python",
   "name": "python",
   "nbconvert_exporter": "python",
   "pygments_lexer": "ipython3",
   "version": "3.9.7"
  },
  "orig_nbformat": 4
 },
 "nbformat": 4,
 "nbformat_minor": 2
}
