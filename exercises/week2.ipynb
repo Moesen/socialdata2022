{
 "cells": [
  {
   "cell_type": "code",
   "execution_count": null,
   "metadata": {},
   "outputs": [],
   "source": [
    "import pandas as pd\n",
    "import numpy as np\n",
    "import matplotlib.pyplot as plt"
   ]
  },
  {
   "cell_type": "code",
   "execution_count": null,
   "metadata": {},
   "outputs": [],
   "source": [
    "data = {\n",
    "    \"data1\": pd.read_csv(\"../files/data1.tsv\", sep=\"\\t\", header=None, index_col=False, names=[\"x\", \"y\"]),\n",
    "    \"data2\": pd.read_csv(\"../files/data2.tsv\", sep=\"\\t\", header=None, index_col=False, names=[\"x\", \"y\"]),\n",
    "    \"data3\": pd.read_csv(\"../files/data3.tsv\", sep=\"\\t\", header=None, index_col=False, names=[\"x\", \"y\"]),\n",
    "    \"data4\": pd.read_csv(\"../files/data4.tsv\", sep=\"\\t\", header=None, index_col=False, names=[\"x\", \"y\"]),\n",
    "}"
   ]
  },
  {
   "cell_type": "markdown",
   "metadata": {},
   "source": [
    "## Calculating mean"
   ]
  },
  {
   "cell_type": "code",
   "execution_count": null,
   "metadata": {},
   "outputs": [],
   "source": [
    "for k, d in data.items():\n",
    "    print(k)\n",
    "    print(f\"x={np.mean(d.x):.2f}, y={np.mean(d.y):.2f}\")"
   ]
  },
  {
   "cell_type": "markdown",
   "metadata": {},
   "source": [
    "## Calculating "
   ]
  },
  {
   "cell_type": "code",
   "execution_count": null,
   "metadata": {},
   "outputs": [],
   "source": [
    "for k, d in data.items():\n",
    "    print(k)\n",
    "    print(f\"x={np.var(d.x):.3f}, y={np.var(d.y):.3f}\")"
   ]
  },
  {
   "cell_type": "code",
   "execution_count": null,
   "metadata": {},
   "outputs": [],
   "source": [
    "for k, d in data.items():\n",
    "    print(k)\n",
    "    print(f\"Pearrson cov = {np.corrcoef(d.x, d.y)}\")"
   ]
  },
  {
   "cell_type": "markdown",
   "metadata": {},
   "source": [
    "## Linear Regression"
   ]
  },
  {
   "cell_type": "code",
   "execution_count": null,
   "metadata": {},
   "outputs": [],
   "source": [
    "from scipy import stats"
   ]
  },
  {
   "cell_type": "code",
   "execution_count": null,
   "metadata": {},
   "outputs": [],
   "source": [
    "for k, d in data.items():\n",
    "    slope, intercept, r_value, p_value, std_err = stats.linregress(d.x, d.y)\n",
    "    print(k)\n",
    "    print(f\"{slope=:.2f}, {intercept=:.2f}\")"
   ]
  },
  {
   "cell_type": "code",
   "execution_count": null,
   "metadata": {},
   "outputs": [],
   "source": [
    "fig, axs = plt.subplots(2, 2, figsize=(10, 10))\n",
    "\n",
    "cols = [\"b\", \"r\", \"g\", \"y\"]\n",
    "for (k, d), ax, col in zip(data.items(), axs.flatten(), cols):\n",
    "    ax.scatter(d.x, d.y, color=col)\n",
    "\n",
    "    slope, intercept, r_value, p_value, std_err = stats.linregress(d.x, d.y)\n",
    "    x = np.linspace(np.min(d.x), np.max(d.x))\n",
    "    y = slope * x + intercept\n",
    "    ax.plot(x, y, \"black\")\n",
    "    ax.set_title(k)\n",
    "\n",
    "\n",
    "for ax in axs.flatten():\n",
    "    ax.set_xlabel(\"x\")\n",
    "    ax.set_ylabel(\"y\")\n",
    "plt.tight_layout()"
   ]
  },
  {
   "cell_type": "markdown",
   "metadata": {},
   "source": [
    "## Part 1.2\n",
    "*Excercise 1.2:* Questions for the lecture\n",
    "* What is the difference between *data* and *metadata*? How does that relate to the GPS tracks-example?\n",
    "    * Data is concrete, metadata is data about the data\n",
    "* Sune says that the human eye is a great tool for data analysis. Do you agree? Explain why/why not. Mention something that the human eye is very good at. Can you think of something that [is difficult for the human eye](http://cdn.ebaumsworld.com/mediaFiles/picture/718392/84732652.jpg). Explain why your example is difficult. \n",
    "    * I agree, its real good. Good at spotting patterns, can be confused.\n",
    "* Simpson's paradox is hard to explain. Come up with your own example - or find one on line.\n",
    "    * The schoolsystem in America\n",
    "* In your own words, explain the differnece between *exploratory* and *explanatory* data analysis. \n",
    "    * Explore the data or explain the data"
   ]
  },
  {
   "cell_type": "code",
   "execution_count": null,
   "metadata": {},
   "outputs": [],
   "source": [
    "df = pd.read_csv(\"../data/Police_Department_Incident_Reports__Historical_2003_to_May_2018.csv\")\n",
    "focuscrimes = set(['WEAPON LAWS', 'PROSTITUTION', 'DRIVING UNDER THE INFLUENCE', 'ROBBERY', 'BURGLARY', 'ASSAULT', 'DRUNKENNESS', 'DRUG/NARCOTIC', 'TRESPASS', 'LARCENY/THEFT', 'VANDALISM', 'VEHICLE THEFT', 'STOLEN PROPERTY', 'DISORDERLY CONDUCT'])"
   ]
  },
  {
   "cell_type": "code",
   "execution_count": null,
   "metadata": {},
   "outputs": [],
   "source": [
    "df[\"DayName\"] = pd.to_datetime(df.Date).dt.day_name()\n",
    "df[\"WeekIdx\"] = pd.to_datetime(df.Date).dt.weekday\n",
    "df[\"Month\"] = pd.to_datetime(df.Date).dt.month\n",
    "df[\"Hour\"] = pd.to_datetime(df.Time).dt.hour"
   ]
  },
  {
   "cell_type": "code",
   "execution_count": null,
   "metadata": {},
   "outputs": [],
   "source": [
    "fig, axs = plt.subplots(7, 2, figsize=(10, 20))\n",
    "for (idx, group), ax in zip(df[df.Category.isin(focuscrimes)].groupby(\"Category\"), axs.flatten()): \n",
    "    group[[\"WeekIdx\", \"DayName\"]]\\\n",
    "        .value_counts()\\\n",
    "        .sort_index()\\\n",
    "        .plot.bar(ax=ax, title=group.Category.values[0])\n",
    "\n",
    "plt.tight_layout()"
   ]
  },
  {
   "cell_type": "code",
   "execution_count": null,
   "metadata": {},
   "outputs": [],
   "source": [
    "fig, axs = plt.subplots(7, 2, figsize=(10, 20))\n",
    "for (idx, group), ax in zip(df[df.Category.isin(focuscrimes)].groupby(\"Category\"), axs.flatten()): \n",
    "    val_counts = group[[\"Month\"]]\\\n",
    "        .value_counts()\\\n",
    "        .sort_index()\\\n",
    "        .plot.bar(ax=ax, title=group.Category.values[0])\n",
    "\n",
    "plt.tight_layout()"
   ]
  },
  {
   "cell_type": "code",
   "execution_count": null,
   "metadata": {},
   "outputs": [],
   "source": [
    "fig, axs = plt.subplots(7, 2, figsize=(10, 20))\n",
    "for (idx, group), ax in zip(df[df.Category.isin(focuscrimes)].groupby(\"Category\"), axs.flatten()): \n",
    "    val_counts = group[[\"Hour\"]]\\\n",
    "        .value_counts()\\\n",
    "        .sort_index()\\\n",
    "        .plot.bar(ax=ax, title=group.Category.values[0])\n",
    "\n",
    "plt.tight_layout()"
   ]
  },
  {
   "cell_type": "code",
   "execution_count": null,
   "metadata": {},
   "outputs": [],
   "source": [
    "fig, axs = plt.subplots(7, 2, figsize=(10, 20))\n",
    "for (_, group), ax in zip(df[df.Category.isin(focuscrimes)].groupby(\"Category\"), axs.flatten()): \n",
    "    val_counts = group[[\"WeekIdx\", \"Hour\"]]\\\n",
    "        .value_counts()\\\n",
    "        .sort_index()\\\n",
    "        .plot.bar(ax=ax, title=group.Category.values[0])\n",
    "    ax.set_xticks([x for x in range(0, 169, 12)])\n",
    "    ax.set_xticklabels([f\"{x%24}\" for x in range(0, 169, 12)], rotation=0)\n",
    "\n",
    "plt.tight_layout()"
   ]
  },
  {
   "cell_type": "code",
   "execution_count": null,
   "metadata": {},
   "outputs": [],
   "source": [
    "print(\"10 Districts\")\n",
    "print(df.PdDistrict.unique())"
   ]
  },
  {
   "cell_type": "code",
   "execution_count": null,
   "metadata": {},
   "outputs": [],
   "source": [
    "print(\"Number of crimes in each district\")\n",
    "print(df.groupby(\"PdDistrict\").size().sort_values(ascending=False))\n",
    "\n",
    "print(\"Number of focus crimes\")\n",
    "print(df[df.Category.isin(focuscrimes)].groupby(\"PdDistrict\").size().sort_values(ascending=False))"
   ]
  },
  {
   "cell_type": "code",
   "execution_count": null,
   "metadata": {},
   "outputs": [],
   "source": [
    "p_crime = df.Category.value_counts(normalize=True)\n",
    "p_crime_districts = df.groupby(\"PdDistrict\").Category.value_counts(normalize=True)\n",
    "\n",
    "fig, axs = plt.subplots(5, 2, figsize=(10, 30))\n",
    "\n",
    "for (area, new_df), ax in zip(p_crime_districts.groupby(level=0), axs.flatten()):\n",
    "    new_df.index = new_df.index.get_level_values(1)\n",
    "    ps = (new_df / p_crime)\n",
    "    ps[ps.index.isin(focuscrimes)].plot.bar(title=area, ax=ax)\n",
    "\n",
    "plt.tight_layout()"
   ]
  },
  {
   "cell_type": "code",
   "execution_count": null,
   "metadata": {},
   "outputs": [],
   "source": [
    "randomdata = {\n",
    "    'CENTRAL': 0.8903601342256143,\n",
    "    'SOUTHERN': 0.8642882941363439,\n",
    "    'BAYVIEW': 0.925634097746596,\n",
    "    'MISSION': 0.7369022697287458,\n",
    "    'PARK': 0.9864113307070926,\n",
    "    'RICHMOND': 0.5422239624697017,\n",
    "    'INGLESIDE': 0.5754056712571605,\n",
    "    'TARAVAL': 0.5834730737348696,\n",
    "    'NORTHERN': 0.08148199528212985,\n",
    "    'TENDERLOIN': 0.37014287986350447}\n",
    "\n",
    "df_random = pd.DataFrame.from_dict(randomdata, orient=\"index\").reset_index()\n",
    "df_random.columns = [\"DISTRICT\", \"DATA\"]\n",
    "\n",
    "# Normalizing between 0 and 12\n",
    "df_random.DATA = df_random.DATA.transform(lambda x: (x / x.max()) * 12)\n",
    "df_random"
   ]
  },
  {
   "cell_type": "code",
   "execution_count": null,
   "metadata": {},
   "outputs": [],
   "source": [
    "import json\n",
    "import plotly.express as px"
   ]
  },
  {
   "cell_type": "code",
   "execution_count": null,
   "metadata": {},
   "outputs": [],
   "source": [
    "counties = json.loads(open(\"../files/sfpd.geojson\", \"r\").read())\n",
    "\n",
    "fig = px.choropleth_mapbox(df_random, geojson=counties, locations=\"DISTRICT\", color=\"DATA\", color_continuous_scale=\"Viridis\", range_color=(0, 12),\n",
    "                           mapbox_style=\"carto-positron\",\n",
    "                           zoom=10, center = {\"lat\": 37.773972, \"lon\": -122.431297},\n",
    "                           opacity=0.5,\n",
    "                           labels={'unemp':'unemployment rate'})\n",
    "fig.show()"
   ]
  },
  {
   "cell_type": "code",
   "execution_count": null,
   "metadata": {},
   "outputs": [],
   "source": [
    "data = pd.DataFrame(df[(df.Category == \"VEHICLE THEFT\") & (df.WeekIdx == 1)].PdDistrict.value_counts(normalize=True)).reset_index()\n",
    "data.columns = [\"DISTRICT\", \"DATA\"]\n",
    "data.DATA = data.DATA.transform(lambda x: (x / x.max()) * 12)"
   ]
  },
  {
   "cell_type": "code",
   "execution_count": null,
   "metadata": {},
   "outputs": [],
   "source": [
    "counties = json.loads(open(\"../files/sfpd.geojson\", \"r\").read())\n",
    "\n",
    "fig = px.choropleth_mapbox(data, geojson=counties, locations=\"DISTRICT\", color=\"DATA\", color_continuous_scale=\"Viridis\", \n",
    "                           range_color=(0, 12),\n",
    "                           mapbox_style=\"carto-positron\",\n",
    "                           zoom=10, center = {\"lat\": 37.773972, \"lon\": -122.431297},\n",
    "                           opacity=0.5,\n",
    "                           labels={'unemp':'unemployment rate'})\n",
    "fig.show()"
   ]
  }
 ],
 "metadata": {
  "interpreter": {
   "hash": "21a5a68212b9ff70974cef93a62f3985c3d5b454a18ca05b7c3eb46c4e0b9187"
  },
  "kernelspec": {
   "display_name": "Python 3.8.12 ('social')",
   "language": "python",
   "name": "python3"
  },
  "language_info": {
   "codemirror_mode": {
    "name": "ipython",
    "version": 3
   },
   "file_extension": ".py",
   "mimetype": "text/x-python",
   "name": "python",
   "nbconvert_exporter": "python",
   "pygments_lexer": "ipython3",
   "version": "3.8.12"
  },
  "orig_nbformat": 4
 },
 "nbformat": 4,
 "nbformat_minor": 2
}
