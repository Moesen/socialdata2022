{
 "cells": [
  {
   "cell_type": "code",
   "execution_count": null,
   "metadata": {},
   "outputs": [],
   "source": [
    "import pandas as pd\n",
    "import matplotlib.pyplot as plt"
   ]
  },
  {
   "cell_type": "markdown",
   "metadata": {},
   "source": [
    "# Part 2\n",
    "## Exercise 1\n",
    "- Downloading public safety .csv file.\n",
    "\n",
    "File can now be retrieved using `dvc pull`\n",
    "\n",
    "- Using pandas to retrieve simple statistics.\n"
   ]
  },
  {
   "cell_type": "code",
   "execution_count": null,
   "metadata": {},
   "outputs": [],
   "source": [
    "df = pd.read_csv(\"../data/Police_Department_Incident_Reports__Historical_2003_to_May_2018.csv\")"
   ]
  },
  {
   "cell_type": "code",
   "execution_count": null,
   "metadata": {},
   "outputs": [],
   "source": [
    "print(\"Total number of crimes\")\n",
    "print(df.shape[0])\n",
    "print()\n",
    "\n",
    "print(\"Crime catagories\")\n",
    "print(f\"Num of categories: {len(df.Category.unique())}\")\n",
    "print(f\"Categories: {df.Category.unique()}\")\n",
    "print()\n",
    "\n",
    "print(\"Num of crimes in each category\")\n",
    "print(df.Category.value_counts())"
   ]
  },
  {
   "cell_type": "markdown",
   "metadata": {},
   "source": [
    "## Exercise 2"
   ]
  },
  {
   "cell_type": "code",
   "execution_count": null,
   "metadata": {},
   "outputs": [],
   "source": [
    "plt.figure(figsize=(10, 5))\n",
    "df.Category.value_counts().plot.bar()"
   ]
  },
  {
   "cell_type": "markdown",
   "metadata": {},
   "source": [
    "# Exercise 3"
   ]
  },
  {
   "cell_type": "code",
   "execution_count": null,
   "metadata": {},
   "outputs": [],
   "source": [
    "# Creating new col with only year for easier acess\n",
    "df[\"Year\"] = pd.to_datetime(df.Date).dt.year\n",
    "\n",
    "print(\"Year with most crimes\")\n",
    "print(df.Year.value_counts(ascending=False).head(1))\n",
    "print()\n",
    "\n",
    "print(\"Year with least crime\")\n",
    "print(df.Year.value_counts(ascending=True).head(1))\n",
    "print()\n",
    "\n",
    "print(\"Average number of crimes per year\")\n",
    "print(df.Year.value_counts().mean())"
   ]
  },
  {
   "cell_type": "markdown",
   "metadata": {},
   "source": [
    "### Changing previous plot to instead include average number of crimes per year by category"
   ]
  },
  {
   "cell_type": "code",
   "execution_count": null,
   "metadata": {},
   "outputs": [],
   "source": []
  },
  {
   "cell_type": "markdown",
   "metadata": {},
   "source": [
    "### Temporal Development of subcats"
   ]
  },
  {
   "cell_type": "code",
   "execution_count": null,
   "metadata": {},
   "outputs": [],
   "source": [
    "focuscrimes = set(['WEAPON LAWS', 'PROSTITUTION', 'DRIVING UNDER THE INFLUENCE', 'ROBBERY', 'BURGLARY', 'ASSAULT', 'DRUNKENNESS', 'DRUG/NARCOTIC', 'TRESPASS', 'LARCENY/THEFT', 'VANDALISM', 'VEHICLE THEFT', 'STOLEN PROPERTY', 'DISORDERLY CONDUCT'])\n",
    "\n",
    "fig, axs = plt.subplots(7, 2, figsize=(15, 35))\n",
    "for crime, ax in zip(focuscrimes, axs.flatten()):\n",
    "    df[df.Category == crime].Year.value_counts().sort_index().plot.bar(ax=ax, title=crime, xlabel=\"Year\", ylabel=\"Average\")\n",
    "plt.tight_layout()"
   ]
  }
 ],
 "metadata": {
  "interpreter": {
   "hash": "b35140a549a5f0f8a0e01c206d360c4afcca4de9d9d7d6726a85eb05384b15f9"
  },
  "kernelspec": {
   "display_name": "Python 3.8.12 64-bit ('socialgraphs': conda)",
   "language": "python",
   "name": "python3"
  },
  "language_info": {
   "codemirror_mode": {
    "name": "ipython",
    "version": 3
   },
   "file_extension": ".py",
   "mimetype": "text/x-python",
   "name": "python",
   "nbconvert_exporter": "python",
   "pygments_lexer": "ipython3",
   "version": "3.8.12"
  },
  "orig_nbformat": 4
 },
 "nbformat": 4,
 "nbformat_minor": 2
}
